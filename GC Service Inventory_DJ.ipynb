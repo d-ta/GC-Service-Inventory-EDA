{
 "cells": [
  {
   "cell_type": "code",
   "execution_count": 1,
   "metadata": {},
   "outputs": [],
   "source": [
    "import numpy as np\n",
    "import pandas as pd"
   ]
  },
  {
   "cell_type": "code",
   "execution_count": 2,
   "metadata": {},
   "outputs": [],
   "source": [
    "url_inv = \"https://open.canada.ca/data/dataset/3ac0d080-6149-499a-8b06-7ce5f00ec56c/resource/3acf79c0-a5f5-4d9a-a30d-fb5ceba4b60a/download/service_inventory.csv\"\n",
    "url_std = \"https://open.canada.ca/data/dataset/3ac0d080-6149-499a-8b06-7ce5f00ec56c/resource/272143a7-533e-42a1-b72d-622116474a21/download/service_standards.csv\""
   ]
  },
  {
   "cell_type": "code",
   "execution_count": 3,
   "metadata": {},
   "outputs": [],
   "source": [
    "#import ssl\n",
    "#ssl._create_default_https_context = ssl._create_unverified_context\n",
    "df_inv = pd.read_csv(url_inv)"
   ]
  },
  {
   "cell_type": "code",
   "execution_count": null,
   "metadata": {},
   "outputs": [],
   "source": [
    "df_inv.head()"
   ]
  },
  {
   "cell_type": "code",
   "execution_count": 4,
   "metadata": {},
   "outputs": [
    {
     "data": {
      "text/html": [
       "<div>\n",
       "<style scoped>\n",
       "    .dataframe tbody tr th:only-of-type {\n",
       "        vertical-align: middle;\n",
       "    }\n",
       "\n",
       "    .dataframe tbody tr th {\n",
       "        vertical-align: top;\n",
       "    }\n",
       "\n",
       "    .dataframe thead th {\n",
       "        text-align: right;\n",
       "    }\n",
       "</style>\n",
       "<table border=\"1\" class=\"dataframe\">\n",
       "  <thead>\n",
       "    <tr style=\"text-align: right;\">\n",
       "      <th></th>\n",
       "      <th>fiscal_yr</th>\n",
       "      <th>service_id</th>\n",
       "      <th>service_name_en</th>\n",
       "      <th>service_name_fr</th>\n",
       "      <th>department_name_en</th>\n",
       "      <th>department_name_fr</th>\n",
       "      <th>external_internal</th>\n",
       "      <th>service_type</th>\n",
       "      <th>special_designations</th>\n",
       "      <th>service_description_en</th>\n",
       "      <th>...</th>\n",
       "      <th>other_applications</th>\n",
       "      <th>e_registration</th>\n",
       "      <th>e_authentication</th>\n",
       "      <th>e_application</th>\n",
       "      <th>e_decision</th>\n",
       "      <th>e_issuance</th>\n",
       "      <th>e_feedback</th>\n",
       "      <th>client_feedback</th>\n",
       "      <th>special_remarks_en</th>\n",
       "      <th>special_remarks_fr</th>\n",
       "    </tr>\n",
       "  </thead>\n",
       "  <tbody>\n",
       "    <tr>\n",
       "      <th>count</th>\n",
       "      <td>1865</td>\n",
       "      <td>1865</td>\n",
       "      <td>1865</td>\n",
       "      <td>1865</td>\n",
       "      <td>1865</td>\n",
       "      <td>1865</td>\n",
       "      <td>1865</td>\n",
       "      <td>1865</td>\n",
       "      <td>1865</td>\n",
       "      <td>1865</td>\n",
       "      <td>...</td>\n",
       "      <td>1865</td>\n",
       "      <td>1139</td>\n",
       "      <td>1224</td>\n",
       "      <td>1306</td>\n",
       "      <td>1330</td>\n",
       "      <td>1218</td>\n",
       "      <td>1488</td>\n",
       "      <td>1343</td>\n",
       "      <td>1240</td>\n",
       "      <td>1075</td>\n",
       "    </tr>\n",
       "    <tr>\n",
       "      <th>unique</th>\n",
       "      <td>3</td>\n",
       "      <td>1232</td>\n",
       "      <td>1337</td>\n",
       "      <td>1355</td>\n",
       "      <td>67</td>\n",
       "      <td>68</td>\n",
       "      <td>12</td>\n",
       "      <td>74</td>\n",
       "      <td>9</td>\n",
       "      <td>1416</td>\n",
       "      <td>...</td>\n",
       "      <td>265</td>\n",
       "      <td>2</td>\n",
       "      <td>2</td>\n",
       "      <td>2</td>\n",
       "      <td>2</td>\n",
       "      <td>2</td>\n",
       "      <td>2</td>\n",
       "      <td>99</td>\n",
       "      <td>746</td>\n",
       "      <td>648</td>\n",
       "    </tr>\n",
       "    <tr>\n",
       "      <th>top</th>\n",
       "      <td>2018-2019</td>\n",
       "      <td>1464</td>\n",
       "      <td>Public Enquiries</td>\n",
       "      <td>Demandes des médias</td>\n",
       "      <td>Immigration, Refugees and Citizenship Canada</td>\n",
       "      <td>Immigration, Réfugiés et Citoyenneté Canada</td>\n",
       "      <td>extern</td>\n",
       "      <td>reg</td>\n",
       "      <td>non</td>\n",
       "      <td>The Program makes use of regulatory measures, ...</td>\n",
       "      <td>...</td>\n",
       "      <td>0</td>\n",
       "      <td>Y</td>\n",
       "      <td>N</td>\n",
       "      <td>N</td>\n",
       "      <td>N</td>\n",
       "      <td>N</td>\n",
       "      <td>Y</td>\n",
       "      <td>tel,onl</td>\n",
       "      <td>The value \"NA\" indicates that applications are...</td>\n",
       "      <td>Ce service n'est pas disponible via d'autres m...</td>\n",
       "    </tr>\n",
       "    <tr>\n",
       "      <th>freq</th>\n",
       "      <td>1180</td>\n",
       "      <td>5</td>\n",
       "      <td>9</td>\n",
       "      <td>4</td>\n",
       "      <td>226</td>\n",
       "      <td>226</td>\n",
       "      <td>1461</td>\n",
       "      <td>558</td>\n",
       "      <td>1135</td>\n",
       "      <td>9</td>\n",
       "      <td>...</td>\n",
       "      <td>892</td>\n",
       "      <td>575</td>\n",
       "      <td>691</td>\n",
       "      <td>725</td>\n",
       "      <td>783</td>\n",
       "      <td>723</td>\n",
       "      <td>749</td>\n",
       "      <td>143</td>\n",
       "      <td>37</td>\n",
       "      <td>42</td>\n",
       "    </tr>\n",
       "  </tbody>\n",
       "</table>\n",
       "<p>4 rows × 37 columns</p>\n",
       "</div>"
      ],
      "text/plain": [
       "        fiscal_yr service_id   service_name_en      service_name_fr  \\\n",
       "count        1865       1865              1865                 1865   \n",
       "unique          3       1232              1337                 1355   \n",
       "top     2018-2019       1464  Public Enquiries  Demandes des médias   \n",
       "freq         1180          5                 9                    4   \n",
       "\n",
       "                                  department_name_en  \\\n",
       "count                                           1865   \n",
       "unique                                            67   \n",
       "top     Immigration, Refugees and Citizenship Canada   \n",
       "freq                                             226   \n",
       "\n",
       "                                 department_name_fr external_internal  \\\n",
       "count                                          1865              1865   \n",
       "unique                                           68                12   \n",
       "top     Immigration, Réfugiés et Citoyenneté Canada            extern   \n",
       "freq                                            226              1461   \n",
       "\n",
       "       service_type special_designations  \\\n",
       "count          1865                 1865   \n",
       "unique           74                    9   \n",
       "top             reg                  non   \n",
       "freq            558                 1135   \n",
       "\n",
       "                                   service_description_en  ...  \\\n",
       "count                                                1865  ...   \n",
       "unique                                               1416  ...   \n",
       "top     The Program makes use of regulatory measures, ...  ...   \n",
       "freq                                                    9  ...   \n",
       "\n",
       "       other_applications e_registration e_authentication e_application  \\\n",
       "count                1865           1139             1224          1306   \n",
       "unique                265              2                2             2   \n",
       "top                     0              Y                N             N   \n",
       "freq                  892            575              691           725   \n",
       "\n",
       "       e_decision e_issuance e_feedback client_feedback  \\\n",
       "count        1330       1218       1488            1343   \n",
       "unique          2          2          2              99   \n",
       "top             N          N          Y         tel,onl   \n",
       "freq          783        723        749             143   \n",
       "\n",
       "                                       special_remarks_en  \\\n",
       "count                                                1240   \n",
       "unique                                                746   \n",
       "top     The value \"NA\" indicates that applications are...   \n",
       "freq                                                   37   \n",
       "\n",
       "                                       special_remarks_fr  \n",
       "count                                                1075  \n",
       "unique                                                648  \n",
       "top     Ce service n'est pas disponible via d'autres m...  \n",
       "freq                                                   42  \n",
       "\n",
       "[4 rows x 37 columns]"
      ]
     },
     "execution_count": 4,
     "metadata": {},
     "output_type": "execute_result"
    }
   ],
   "source": [
    "df_inv.describe()"
   ]
  },
  {
   "cell_type": "code",
   "execution_count": 5,
   "metadata": {},
   "outputs": [
    {
     "data": {
      "text/plain": [
       "Index(['fiscal_yr', 'service_id', 'service_name_en', 'service_name_fr',\n",
       "       'department_name_en', 'department_name_fr', 'external_internal',\n",
       "       'service_type', 'special_designations', 'service_description_en',\n",
       "       'service_description_fr', 'service_url_en', 'service_url_fr',\n",
       "       'program_name_en', 'program_name_fr', 'last_GBA',\n",
       "       'client_target_groups', 'info_service', 'service_fee',\n",
       "       'cra_business_number', 'use_of_sin', 'service_channels',\n",
       "       'online_applications', 'web_visits_info_service', 'calls_received',\n",
       "       'in_person_applications', 'postal_mail_applications',\n",
       "       'other_applications', 'e_registration', 'e_authentication',\n",
       "       'e_application', 'e_decision', 'e_issuance', 'e_feedback',\n",
       "       'client_feedback', 'special_remarks_en', 'special_remarks_fr'],\n",
       "      dtype='object')"
      ]
     },
     "execution_count": 5,
     "metadata": {},
     "output_type": "execute_result"
    }
   ],
   "source": [
    "df_inv.columns"
   ]
  },
  {
   "cell_type": "markdown",
   "metadata": {},
   "source": [
    "# Data Cleanup"
   ]
  },
  {
   "cell_type": "markdown",
   "metadata": {},
   "source": [
    "## Numeric columns"
   ]
  },
  {
   "cell_type": "code",
   "execution_count": 22,
   "metadata": {},
   "outputs": [],
   "source": [
    "#Convert object columns to numeric data type.\n",
    "numeric_columns = ['web_visits_info_service', 'calls_received', 'online_applications', 'in_person_applications', 'postal_mail_applications', 'other_applications']\n",
    "for col in numeric_columns:\n",
    "    df_inv[col] = pd.to_numeric(df_inv[col], errors = 'coerce')"
   ]
  },
  {
   "cell_type": "code",
   "execution_count": 34,
   "metadata": {},
   "outputs": [],
   "source": [
    "#Sum total applications\n",
    "applications=['online_applications', 'in_person_applications', 'postal_mail_applications', 'other_applications']\n",
    "df_inv[\"total_applications\"]=df_inv[applications].sum(axis=1)"
   ]
  },
  {
   "cell_type": "markdown",
   "metadata": {},
   "source": [
    "## External_internal\n",
    "\n",
    "Much of this is copied from Dia's notebook"
   ]
  },
  {
   "cell_type": "code",
   "execution_count": 24,
   "metadata": {},
   "outputs": [
    {
     "data": {
      "text/plain": [
       "EX    1461\n",
       "IN     231\n",
       "EI     173\n",
       "Name: external_internal, dtype: int64"
      ]
     },
     "execution_count": 24,
     "metadata": {},
     "output_type": "execute_result"
    }
   ],
   "source": [
    "df_inv.external_internal.value_counts()"
   ]
  },
  {
   "cell_type": "code",
   "execution_count": 25,
   "metadata": {},
   "outputs": [],
   "source": [
    "def translate_to_EI(val):\n",
    "    if val == 'extern':\n",
    "        return 'EX'\n",
    "    elif val in ['enterprise', 'intern', 'enterprise,intern']:\n",
    "        return 'IN'\n",
    "    else:\n",
    "        return 'EI'"
   ]
  },
  {
   "cell_type": "code",
   "execution_count": 26,
   "metadata": {},
   "outputs": [
    {
     "data": {
      "text/plain": [
       "EI    1865\n",
       "Name: external_internal, dtype: int64"
      ]
     },
     "execution_count": 26,
     "metadata": {},
     "output_type": "execute_result"
    }
   ],
   "source": [
    "#df_inv.external_internal\n",
    "df_inv['external_internal'] = df_inv['external_internal'].map(translate_to_EI)\n",
    "df_inv.external_internal.value_counts()"
   ]
  },
  {
   "cell_type": "markdown",
   "metadata": {},
   "source": [
    "## Department name and Fiscal year\n",
    "\n",
    "AS observed noted by Dia, data over all three years is only available for 11 departments. We restrict ourselves to these. Furthermore, Danyi's graph shows a significant decrease in the number of applications (online and otherwise) in the fiscale year 2018-2019. We assume that these are do to a lack of data. Therefore, we also restrict ourselves to the fiscal years 2016-2017 and 2017-2018.\n",
    "\n",
    "For more information, read comments [here](https://open.canada.ca/data/en/dataset/3ac0d080-6149-499a-8b06-7ce5f00ec56c)."
   ]
  },
  {
   "cell_type": "code",
   "execution_count": 27,
   "metadata": {},
   "outputs": [
    {
     "data": {
      "text/plain": [
       "array(['2016-2017', '2017-2018', '2018-2019'], dtype=object)"
      ]
     },
     "execution_count": 27,
     "metadata": {},
     "output_type": "execute_result"
    }
   ],
   "source": [
    "df_inv.fiscal_yr.unique()"
   ]
  },
  {
   "cell_type": "code",
   "execution_count": 36,
   "metadata": {},
   "outputs": [],
   "source": [
    "departments = df_inv[df_inv.fiscal_yr == '2016-2017'].department_name_en.unique()\n",
    "df = df_inv[df_inv.department_name_en.isin(departments) & (df_inv.fiscal_yr != '2018-2019')]"
   ]
  },
  {
   "cell_type": "code",
   "execution_count": 38,
   "metadata": {
    "jupyter": {
     "outputs_hidden": true
    },
    "scrolled": false
   },
   "outputs": [
    {
     "data": {
      "text/plain": [
       "0       282.0\n",
       "1        16.0\n",
       "2       141.0\n",
       "3        29.0\n",
       "4        36.0\n",
       "        ...  \n",
       "680       0.0\n",
       "681       0.0\n",
       "682       0.0\n",
       "683    5486.0\n",
       "684      47.0\n",
       "Name: total_applications, Length: 685, dtype: float64"
      ]
     },
     "execution_count": 38,
     "metadata": {},
     "output_type": "execute_result"
    }
   ],
   "source": [
    "df.head()"
   ]
  },
  {
   "cell_type": "markdown",
   "metadata": {},
   "source": [
    "## Selecting relevant columns\n",
    "\n",
    "We begin by redefining df to only contain the columns that will be of interest to us.\n"
   ]
  },
  {
   "cell_type": "code",
   "execution_count": 39,
   "metadata": {},
   "outputs": [
    {
     "data": {
      "text/html": [
       "<div>\n",
       "<style scoped>\n",
       "    .dataframe tbody tr th:only-of-type {\n",
       "        vertical-align: middle;\n",
       "    }\n",
       "\n",
       "    .dataframe tbody tr th {\n",
       "        vertical-align: top;\n",
       "    }\n",
       "\n",
       "    .dataframe thead th {\n",
       "        text-align: right;\n",
       "    }\n",
       "</style>\n",
       "<table border=\"1\" class=\"dataframe\">\n",
       "  <thead>\n",
       "    <tr style=\"text-align: right;\">\n",
       "      <th></th>\n",
       "      <th>fiscal_yr</th>\n",
       "      <th>service_name_en</th>\n",
       "      <th>department_name_en</th>\n",
       "      <th>external_internal</th>\n",
       "      <th>service_type</th>\n",
       "      <th>client_target_groups</th>\n",
       "      <th>service_fee</th>\n",
       "      <th>use_of_sin</th>\n",
       "      <th>online_applications</th>\n",
       "      <th>web_visits_info_service</th>\n",
       "      <th>...</th>\n",
       "      <th>in_person_applications</th>\n",
       "      <th>postal_mail_applications</th>\n",
       "      <th>other_applications</th>\n",
       "      <th>total_applications</th>\n",
       "      <th>e_registration</th>\n",
       "      <th>e_authentication</th>\n",
       "      <th>e_application</th>\n",
       "      <th>e_decision</th>\n",
       "      <th>e_issuance</th>\n",
       "      <th>e_feedback</th>\n",
       "    </tr>\n",
       "  </thead>\n",
       "  <tbody>\n",
       "    <tr>\n",
       "      <th>0</th>\n",
       "      <td>2016-2017</td>\n",
       "      <td>Farm Debt Mediation Service</td>\n",
       "      <td>Agriculture and Agri-Food Canada</td>\n",
       "      <td>EI</td>\n",
       "      <td>res</td>\n",
       "      <td>econom</td>\n",
       "      <td>N</td>\n",
       "      <td>ND</td>\n",
       "      <td>282.0</td>\n",
       "      <td>0.0</td>\n",
       "      <td>...</td>\n",
       "      <td>0.0</td>\n",
       "      <td>0.0</td>\n",
       "      <td>0.0</td>\n",
       "      <td>282.0</td>\n",
       "      <td>NaN</td>\n",
       "      <td>NaN</td>\n",
       "      <td>NaN</td>\n",
       "      <td>NaN</td>\n",
       "      <td>NaN</td>\n",
       "      <td>NaN</td>\n",
       "    </tr>\n",
       "    <tr>\n",
       "      <th>1</th>\n",
       "      <td>2016-2017</td>\n",
       "      <td>AgriMarketing Program Assurance Systems</td>\n",
       "      <td>Agriculture and Agri-Food Canada</td>\n",
       "      <td>EI</td>\n",
       "      <td>res</td>\n",
       "      <td>econom</td>\n",
       "      <td>N</td>\n",
       "      <td>ND</td>\n",
       "      <td>16.0</td>\n",
       "      <td>0.0</td>\n",
       "      <td>...</td>\n",
       "      <td>0.0</td>\n",
       "      <td>0.0</td>\n",
       "      <td>0.0</td>\n",
       "      <td>16.0</td>\n",
       "      <td>NaN</td>\n",
       "      <td>NaN</td>\n",
       "      <td>Y</td>\n",
       "      <td>Y</td>\n",
       "      <td>N</td>\n",
       "      <td>N</td>\n",
       "    </tr>\n",
       "    <tr>\n",
       "      <th>2</th>\n",
       "      <td>2016-2017</td>\n",
       "      <td>AgriMarketing Program Market Development</td>\n",
       "      <td>Agriculture and Agri-Food Canada</td>\n",
       "      <td>EI</td>\n",
       "      <td>res</td>\n",
       "      <td>econom</td>\n",
       "      <td>N</td>\n",
       "      <td>ND</td>\n",
       "      <td>141.0</td>\n",
       "      <td>0.0</td>\n",
       "      <td>...</td>\n",
       "      <td>0.0</td>\n",
       "      <td>0.0</td>\n",
       "      <td>0.0</td>\n",
       "      <td>141.0</td>\n",
       "      <td>NaN</td>\n",
       "      <td>NaN</td>\n",
       "      <td>Y</td>\n",
       "      <td>Y</td>\n",
       "      <td>N</td>\n",
       "      <td>N</td>\n",
       "    </tr>\n",
       "    <tr>\n",
       "      <th>3</th>\n",
       "      <td>2016-2017</td>\n",
       "      <td>AgriInnovation Program Industry-led Research a...</td>\n",
       "      <td>Agriculture and Agri-Food Canada</td>\n",
       "      <td>EI</td>\n",
       "      <td>res</td>\n",
       "      <td>NGO</td>\n",
       "      <td>N</td>\n",
       "      <td>ND</td>\n",
       "      <td>29.0</td>\n",
       "      <td>0.0</td>\n",
       "      <td>...</td>\n",
       "      <td>0.0</td>\n",
       "      <td>0.0</td>\n",
       "      <td>0.0</td>\n",
       "      <td>29.0</td>\n",
       "      <td>NaN</td>\n",
       "      <td>NaN</td>\n",
       "      <td>Y</td>\n",
       "      <td>Y</td>\n",
       "      <td>N</td>\n",
       "      <td>N</td>\n",
       "    </tr>\n",
       "    <tr>\n",
       "      <th>4</th>\n",
       "      <td>2016-2017</td>\n",
       "      <td>AgriInnovation Program Enabling Commercializat...</td>\n",
       "      <td>Agriculture and Agri-Food Canada</td>\n",
       "      <td>EI</td>\n",
       "      <td>res</td>\n",
       "      <td>econom</td>\n",
       "      <td>N</td>\n",
       "      <td>ND</td>\n",
       "      <td>36.0</td>\n",
       "      <td>0.0</td>\n",
       "      <td>...</td>\n",
       "      <td>0.0</td>\n",
       "      <td>0.0</td>\n",
       "      <td>0.0</td>\n",
       "      <td>36.0</td>\n",
       "      <td>NaN</td>\n",
       "      <td>NaN</td>\n",
       "      <td>Y</td>\n",
       "      <td>Y</td>\n",
       "      <td>N</td>\n",
       "      <td>N</td>\n",
       "    </tr>\n",
       "  </tbody>\n",
       "</table>\n",
       "<p>5 rows × 21 columns</p>\n",
       "</div>"
      ],
      "text/plain": [
       "   fiscal_yr                                    service_name_en  \\\n",
       "0  2016-2017                        Farm Debt Mediation Service   \n",
       "1  2016-2017            AgriMarketing Program Assurance Systems   \n",
       "2  2016-2017           AgriMarketing Program Market Development   \n",
       "3  2016-2017  AgriInnovation Program Industry-led Research a...   \n",
       "4  2016-2017  AgriInnovation Program Enabling Commercializat...   \n",
       "\n",
       "                 department_name_en external_internal service_type  \\\n",
       "0  Agriculture and Agri-Food Canada                EI          res   \n",
       "1  Agriculture and Agri-Food Canada                EI          res   \n",
       "2  Agriculture and Agri-Food Canada                EI          res   \n",
       "3  Agriculture and Agri-Food Canada                EI          res   \n",
       "4  Agriculture and Agri-Food Canada                EI          res   \n",
       "\n",
       "  client_target_groups service_fee use_of_sin  online_applications  \\\n",
       "0               econom           N         ND                282.0   \n",
       "1               econom           N         ND                 16.0   \n",
       "2               econom           N         ND                141.0   \n",
       "3                  NGO           N         ND                 29.0   \n",
       "4               econom           N         ND                 36.0   \n",
       "\n",
       "   web_visits_info_service  ...  in_person_applications  \\\n",
       "0                      0.0  ...                     0.0   \n",
       "1                      0.0  ...                     0.0   \n",
       "2                      0.0  ...                     0.0   \n",
       "3                      0.0  ...                     0.0   \n",
       "4                      0.0  ...                     0.0   \n",
       "\n",
       "   postal_mail_applications  other_applications  total_applications  \\\n",
       "0                       0.0                 0.0               282.0   \n",
       "1                       0.0                 0.0                16.0   \n",
       "2                       0.0                 0.0               141.0   \n",
       "3                       0.0                 0.0                29.0   \n",
       "4                       0.0                 0.0                36.0   \n",
       "\n",
       "   e_registration e_authentication e_application e_decision e_issuance  \\\n",
       "0             NaN              NaN           NaN        NaN        NaN   \n",
       "1             NaN              NaN             Y          Y          N   \n",
       "2             NaN              NaN             Y          Y          N   \n",
       "3             NaN              NaN             Y          Y          N   \n",
       "4             NaN              NaN             Y          Y          N   \n",
       "\n",
       "  e_feedback  \n",
       "0        NaN  \n",
       "1          N  \n",
       "2          N  \n",
       "3          N  \n",
       "4          N  \n",
       "\n",
       "[5 rows x 21 columns]"
      ]
     },
     "execution_count": 39,
     "metadata": {},
     "output_type": "execute_result"
    }
   ],
   "source": [
    "rel_cols = ['fiscal_yr', 'service_name_en', 'department_name_en', 'external_internal',\n",
    "            'service_type', 'client_target_groups', 'service_fee','use_of_sin', \n",
    "            'online_applications', 'web_visits_info_service', 'calls_received',\n",
    "            'in_person_applications', 'postal_mail_applications', 'other_applications', 'total_applications',\n",
    "            'e_registration', 'e_authentication', 'e_application', 'e_decision', 'e_issuance', 'e_feedback']\n",
    "df = df[rel_cols]\n",
    "df.head()"
   ]
  },
  {
   "cell_type": "markdown",
   "metadata": {},
   "source": [
    "# Data Plotting and Preliminary Exploration"
   ]
  },
  {
   "cell_type": "markdown",
   "metadata": {},
   "source": [
    "## Web visits and applications"
   ]
  },
  {
   "cell_type": "code",
   "execution_count": 40,
   "metadata": {},
   "outputs": [
    {
     "data": {
      "text/html": [
       "<div>\n",
       "<style scoped>\n",
       "    .dataframe tbody tr th:only-of-type {\n",
       "        vertical-align: middle;\n",
       "    }\n",
       "\n",
       "    .dataframe tbody tr th {\n",
       "        vertical-align: top;\n",
       "    }\n",
       "\n",
       "    .dataframe thead th {\n",
       "        text-align: right;\n",
       "    }\n",
       "</style>\n",
       "<table border=\"1\" class=\"dataframe\">\n",
       "  <thead>\n",
       "    <tr style=\"text-align: right;\">\n",
       "      <th></th>\n",
       "      <th>fiscal_yr</th>\n",
       "      <th>department_name_en</th>\n",
       "      <th>web_visits_info_service</th>\n",
       "      <th>online_applications</th>\n",
       "      <th>total_applications</th>\n",
       "    </tr>\n",
       "  </thead>\n",
       "  <tbody>\n",
       "    <tr>\n",
       "      <th>185</th>\n",
       "      <td>2016-2017</td>\n",
       "      <td>Employment and Social Development Canada</td>\n",
       "      <td>65387512.0</td>\n",
       "      <td>144469.0</td>\n",
       "      <td>144469.0</td>\n",
       "    </tr>\n",
       "    <tr>\n",
       "      <th>188</th>\n",
       "      <td>2016-2017</td>\n",
       "      <td>Employment and Social Development Canada</td>\n",
       "      <td>43943.0</td>\n",
       "      <td>0.0</td>\n",
       "      <td>970.0</td>\n",
       "    </tr>\n",
       "    <tr>\n",
       "      <th>194</th>\n",
       "      <td>2016-2017</td>\n",
       "      <td>Employment and Social Development Canada</td>\n",
       "      <td>11727.0</td>\n",
       "      <td>0.0</td>\n",
       "      <td>14911.0</td>\n",
       "    </tr>\n",
       "    <tr>\n",
       "      <th>347</th>\n",
       "      <td>2017-2018</td>\n",
       "      <td>Agriculture and Agri-Food Canada</td>\n",
       "      <td>20863.0</td>\n",
       "      <td>149.0</td>\n",
       "      <td>780.0</td>\n",
       "    </tr>\n",
       "    <tr>\n",
       "      <th>348</th>\n",
       "      <td>2017-2018</td>\n",
       "      <td>Agriculture and Agri-Food Canada</td>\n",
       "      <td>1276.0</td>\n",
       "      <td>23.0</td>\n",
       "      <td>24.0</td>\n",
       "    </tr>\n",
       "  </tbody>\n",
       "</table>\n",
       "</div>"
      ],
      "text/plain": [
       "     fiscal_yr                        department_name_en  \\\n",
       "185  2016-2017  Employment and Social Development Canada   \n",
       "188  2016-2017  Employment and Social Development Canada   \n",
       "194  2016-2017  Employment and Social Development Canada   \n",
       "347  2017-2018          Agriculture and Agri-Food Canada   \n",
       "348  2017-2018          Agriculture and Agri-Food Canada   \n",
       "\n",
       "     web_visits_info_service  online_applications  total_applications  \n",
       "185               65387512.0             144469.0            144469.0  \n",
       "188                  43943.0                  0.0               970.0  \n",
       "194                  11727.0                  0.0             14911.0  \n",
       "347                  20863.0                149.0               780.0  \n",
       "348                   1276.0                 23.0                24.0  "
      ]
     },
     "execution_count": 40,
     "metadata": {},
     "output_type": "execute_result"
    }
   ],
   "source": [
    "#Selecting important columns\n",
    "df_web = df[['fiscal_yr', 'department_name_en', 'web_visits_info_service', 'online_applications', 'total_applications']]\n",
    "\n",
    "#Remove rows where web_visits_info_service or total_applications are null\n",
    "df_web = df_web[(df_web.web_visits_info_service != 0) & (df_web.total_applications != 0)]\n",
    "\n",
    "#Head\n",
    "df_web.head()"
   ]
  },
  {
   "cell_type": "code",
   "execution_count": 41,
   "metadata": {},
   "outputs": [],
   "source": [
    "#Remaining departments\n",
    "departments_web = df_web.department_name_en.unique()"
   ]
  },
  {
   "cell_type": "markdown",
   "metadata": {},
   "source": [
    "### Total applications"
   ]
  },
  {
   "cell_type": "code",
   "execution_count": 42,
   "metadata": {},
   "outputs": [
    {
     "data": {
      "image/png": "[encoded data removed]",
      "text/plain": [
       "<Figure size 432x288 with 1 Axes>"
      ]
     },
     "metadata": {
      "needs_background": "light"
     },
     "output_type": "display_data"
    }
   ],
   "source": [
    "import matplotlib.pyplot as plt\n",
    "\n",
    "#plot\n",
    "for dept in departments_web:\n",
    "    temp_df = df_web[df_web.department_name_en == dept]\n",
    "    plt.scatter(x = temp_df.web_visits_info_service, y = temp_df.total_applications, label=dept, alpha = 0.5)\n",
    "\n",
    "plt.xscale('log')\n",
    "plt.yscale('log')\n",
    "plt.xlabel('Web visits (log scale)')\n",
    "plt.ylabel('total number of applications (log scale)')\n",
    "plt.legend(bbox_to_anchor=(1, 0.92))\n",
    "plt.show()"
   ]
  },
  {
   "cell_type": "markdown",
   "metadata": {},
   "source": [
    "#### Separating by fiscal year"
   ]
  },
  {
   "cell_type": "code",
   "execution_count": 43,
   "metadata": {},
   "outputs": [
    {
     "data": {
      "image/png": "[encoded data removed]",
      "text/plain": [
       "<Figure size 432x288 with 1 Axes>"
      ]
     },
     "metadata": {
      "needs_background": "light"
     },
     "output_type": "display_data"
    }
   ],
   "source": [
    "#Fiscal Year 2016-2017\n",
    "\n",
    "df_web_16_17 = df_web[df_web.fiscal_yr == '2016-2017']\n",
    "\n",
    "for dept in departments_web:\n",
    "    temp_df = df_web_16_17[df_web_16_17.department_name_en == dept]\n",
    "    plt.scatter(x = temp_df.web_visits_info_service, y = temp_df.total_applications, label=dept, alpha = 0.7)\n",
    "\n",
    "plt.xscale('log')\n",
    "plt.yscale('log')\n",
    "plt.xlabel('Web visits (log scale)')\n",
    "plt.ylabel('total number of applications (log scale)')\n",
    "plt.legend(bbox_to_anchor=(1, 0.92))\n",
    "plt.show()"
   ]
  },
  {
   "cell_type": "code",
   "execution_count": 44,
   "metadata": {},
   "outputs": [
    {
     "data": {
      "image/png": "[encoded data removed]",
      "text/plain": [
       "<Figure size 432x288 with 1 Axes>"
      ]
     },
     "metadata": {
      "needs_background": "light"
     },
     "output_type": "display_data"
    }
   ],
   "source": [
    "#Fiscal Year 2017-2018\n",
    "\n",
    "df_web_17_18 = df_web[df_web.fiscal_yr == '2017-2018']\n",
    "\n",
    "for dept in departments_web:\n",
    "    temp_df = df_web_17_18[df_web_17_18.department_name_en == dept]\n",
    "    plt.scatter(x = temp_df.web_visits_info_service, y = temp_df.total_applications, label=dept, alpha = 0.5)\n",
    "\n",
    "plt.xscale('log')\n",
    "plt.yscale('log')\n",
    "plt.xlabel('Web visits (log scale)')\n",
    "plt.ylabel('total number of applications (log scale)')\n",
    "plt.legend(bbox_to_anchor=(1, 0.92))\n",
    "plt.show()"
   ]
  },
  {
   "cell_type": "markdown",
   "metadata": {},
   "source": [
    "### Online applications"
   ]
  },
  {
   "cell_type": "code",
   "execution_count": 45,
   "metadata": {},
   "outputs": [],
   "source": [
    "#We remove rows with no online applications\n",
    "df_online = df_web[df_web.online_applications != 0]"
   ]
  },
  {
   "cell_type": "code",
   "execution_count": 46,
   "metadata": {},
   "outputs": [
    {
     "data": {
      "text/plain": [
       "Innovation, Science and Economic Development Canada    26\n",
       "Immigration, Refugees and Citizenship Canada           20\n",
       "Agriculture and Agri-Food Canada                       15\n",
       "Employment and Social Development Canada               13\n",
       "Veterans Affairs Canada                                13\n",
       "Public Services and Procurement Canada                  5\n",
       "Canada Revenue Agency                                   1\n",
       "Name: department_name_en, dtype: int64"
      ]
     },
     "execution_count": 46,
     "metadata": {},
     "output_type": "execute_result"
    }
   ],
   "source": [
    "#Remaining departments\n",
    "departments_online = df_online.department_name_en.unique()\n",
    "df_online.department_name_en.value_counts()"
   ]
  },
  {
   "cell_type": "code",
   "execution_count": 47,
   "metadata": {},
   "outputs": [
    {
     "data": {
      "image/png": "[encoded data removed]",
      "text/plain": [
       "<Figure size 432x288 with 1 Axes>"
      ]
     },
     "metadata": {
      "needs_background": "light"
     },
     "output_type": "display_data"
    }
   ],
   "source": [
    "#plot\n",
    "for dept in departments_online:\n",
    "    temp_df = df_online[df_online.department_name_en == dept]\n",
    "    plt.scatter(x = temp_df.web_visits_info_service, y = temp_df.online_applications, label=dept, alpha = 0.5)\n",
    "\n",
    "plt.xscale('log')\n",
    "plt.yscale('log')\n",
    "plt.xlabel('Web visits (log scale)')\n",
    "plt.ylabel('number of online applications (log scale)')\n",
    "plt.legend(bbox_to_anchor=(1, 0.92))\n",
    "plt.show()"
   ]
  },
  {
   "cell_type": "markdown",
   "metadata": {},
   "source": [
    "#### Separating by fiscal year"
   ]
  },
  {
   "cell_type": "code",
   "execution_count": 54,
   "metadata": {},
   "outputs": [
    {
     "data": {
      "text/plain": [
       "2017-2018    92\n",
       "2016-2017     1\n",
       "Name: fiscal_yr, dtype: int64"
      ]
     },
     "execution_count": 54,
     "metadata": {},
     "output_type": "execute_result"
    }
   ],
   "source": [
    "df_online.fiscal_yr.value_counts()"
   ]
  },
  {
   "cell_type": "code",
   "execution_count": 58,
   "metadata": {},
   "outputs": [
    {
     "data": {
      "image/png": "[encoded data removed]",
      "text/plain": [
       "<Figure size 432x288 with 1 Axes>"
      ]
     },
     "metadata": {
      "needs_background": "light"
     },
     "output_type": "display_data"
    }
   ],
   "source": [
    "#Fiscal Year 2017-2018 - there is only one data point for the fiscal year 2016-2017\n",
    "df_online_17_18 = df_online[df_online.fiscal_yr == '2017-2018']\n",
    "\n",
    "\n",
    "for dept in departments_online:\n",
    "    temp_df = df_online_17_18[df_online_17_18.department_name_en == dept]\n",
    "    plt.scatter(x = temp_df.web_visits_info_service, y = temp_df.online_applications, label=dept, alpha = 0.5)\n",
    "\n",
    "plt.xscale('log')\n",
    "plt.yscale('log')\n",
    "plt.xlabel('Web visits (log scale)')\n",
    "plt.ylabel('number of online applications (log scale)')\n",
    "plt.legend(bbox_to_anchor=(1, 0.92))\n",
    "plt.show()"
   ]
  },
  {
   "cell_type": "code",
   "execution_count": 59,
   "metadata": {},
   "outputs": [],
   "source": [
    "#df_web_gr = df_web.groupby('department_name_en').agg('sum')\n",
    "#df_web_gr\n",
    "\n",
    "#df_web_gr.plot()\n",
    "#plt.xticks(rotation = 90)\n",
    "#plt.show()\n",
    "\n",
    "#df_web_gr.plot(kind='scatter',x='web_visits_info_service',y='online_applications')\n",
    "#plt.show()"
   ]
  },
  {
   "cell_type": "markdown",
   "metadata": {},
   "source": [
    "## Seperating by Year\n",
    "\n",
    "Looking at same data above, seperated by year. (Just curious)"
   ]
  },
  {
   "cell_type": "code",
   "execution_count": null,
   "metadata": {},
   "outputs": [],
   "source": [
    "df_inv_online_data_w_yr = df_inv_relevantDeps[[\n",
    "'fiscal_yr','department_name_en', 'web_visits_info_service', 'online_applications']]\n",
    "df_inv_online_data_w_yr.head()"
   ]
  },
  {
   "cell_type": "code",
   "execution_count": null,
   "metadata": {},
   "outputs": [],
   "source": [
    "df_inv_onine_data_1617=df_inv_online_data_w_yr[df_inv_online_data_w_yr.fiscal_yr=='2016-2017']\n",
    "df_inv_onine_data_by_year=df_inv_online_data_w_yr.groupby('fiscal_yr')\n",
    "for name, group in df_inv_onine_data_by_year:\n",
    "    print(name)\n",
    "    group.plot(kind='scatter',x='web_visits_info_service',y='online_applications')\n",
    "    plt.show()\n",
    "#graph = sb.FacetGrid(data = df_inv_online_data_w_yr, col = \"fiscal_yr\")\n",
    "#graph.map(plt.scatter, 'web_visits_info_service', 'online_applications')"
   ]
  },
  {
   "cell_type": "code",
   "execution_count": null,
   "metadata": {},
   "outputs": [],
   "source": [
    "#group by department\n",
    "df_inv_onine_data_1617=df_inv_onine_data_1617.groupby('department_name_en').agg(sum)\n",
    "df_inv_onine_data_1617.shape"
   ]
  },
  {
   "cell_type": "code",
   "execution_count": null,
   "metadata": {},
   "outputs": [],
   "source": [
    "df_inv_onine_data_1617.plot()\n",
    "plt.xticks(rotation = 90)\n",
    "#plt.legend()\n",
    "plt.show()"
   ]
  },
  {
   "cell_type": "markdown",
   "metadata": {},
   "source": [
    "# Merge Experiment\n",
    "\n",
    "Merged all departments together to 1) show a way to do that with quatitative data and 2) play arund with plotting multiple bar charts\n",
    "\n",
    "Inclduing it here just so people can be see. May delete later. "
   ]
  },
  {
   "cell_type": "code",
   "execution_count": null,
   "metadata": {
    "jupyter": {
     "outputs_hidden": true
    }
   },
   "outputs": [],
   "source": [
    "df_inv_apps_data = df_inv_relevantDeps[['fiscal_yr','department_name_en', 'online_applications', 'in_person_applications', 'postal_mail_applications', 'other_applications', 'total_applications']]\n",
    "df_inv_apps_data.head()"
   ]
  },
  {
   "cell_type": "code",
   "execution_count": null,
   "metadata": {},
   "outputs": [],
   "source": [
    "#del df_inv_apps_data['department_name_en']"
   ]
  },
  {
   "cell_type": "code",
   "execution_count": null,
   "metadata": {},
   "outputs": [],
   "source": [
    "#column_list=['online_applications', 'in_person_applications', 'postal_mail_applications', 'other_applications']\n",
    "#df_inv_apps_data[\"total_applications\"]=df_inv_apps_data[column_list].sum(axis=1)"
   ]
  },
  {
   "cell_type": "code",
   "execution_count": null,
   "metadata": {},
   "outputs": [],
   "source": [
    "df_inv_apps_data_merge=df_inv_apps_data.groupby('fiscal_yr').agg(sum)\n",
    "df_inv_apps_data_merge.head()"
   ]
  },
  {
   "cell_type": "code",
   "execution_count": null,
   "metadata": {},
   "outputs": [],
   "source": [
    "fig1, ax1=plt.subplots()\n",
    "\n",
    "ax1.bar(df_inv_apps_data_merge.index, df_inv_apps_data_merge.online_applications, label='online applications')\n",
    "ax1.set_title(\"Online Applications\")\n",
    "fig2,ax2=plt.subplots()\n",
    "ax2.bar(df_inv_apps_data_merge.index, df_inv_apps_data_merge.in_person_applications)\n",
    "ax2.set_title('In-person Applications')\n",
    "\n",
    "fig3, ax3=plt.subplots()\n",
    "ax3.bar(df_inv_apps_data_merge.index, df_inv_apps_data_merge.postal_mail_applications)\n",
    "ax3.set_title(\"Postal mail applications\")\n",
    "\n",
    "fig4, ax4=plt.subplots()\n",
    "ax4.bar(df_inv_apps_data_merge.index, df_inv_apps_data_merge.other_applications)\n",
    "ax4.set_title(\"Other applications\")\n",
    "\n",
    "fig5, ax5=plt.subplots()\n",
    "ax5.bar(df_inv_apps_data_merge.index, df_inv_apps_data_merge.total_applications)\n",
    "ax5.set_title(\"Total applications\")\n",
    "\n",
    "plt.show()"
   ]
  },
  {
   "cell_type": "markdown",
   "metadata": {},
   "source": [
    "# Decision Tree Regression"
   ]
  },
  {
   "cell_type": "code",
   "execution_count": 52,
   "metadata": {},
   "outputs": [
    {
     "data": {
      "text/html": [
       "<div>\n",
       "<style scoped>\n",
       "    .dataframe tbody tr th:only-of-type {\n",
       "        vertical-align: middle;\n",
       "    }\n",
       "\n",
       "    .dataframe tbody tr th {\n",
       "        vertical-align: top;\n",
       "    }\n",
       "\n",
       "    .dataframe thead th {\n",
       "        text-align: right;\n",
       "    }\n",
       "</style>\n",
       "<table border=\"1\" class=\"dataframe\">\n",
       "  <thead>\n",
       "    <tr style=\"text-align: right;\">\n",
       "      <th></th>\n",
       "      <th>service_fee</th>\n",
       "      <th>e_registration</th>\n",
       "      <th>e_authentication</th>\n",
       "      <th>e_application</th>\n",
       "      <th>e_decision</th>\n",
       "      <th>e_issuance</th>\n",
       "      <th>e_feedback</th>\n",
       "    </tr>\n",
       "  </thead>\n",
       "  <tbody>\n",
       "    <tr>\n",
       "      <th>count</th>\n",
       "      <td>1865</td>\n",
       "      <td>1139</td>\n",
       "      <td>1224</td>\n",
       "      <td>1306</td>\n",
       "      <td>1330</td>\n",
       "      <td>1218</td>\n",
       "      <td>1488</td>\n",
       "    </tr>\n",
       "    <tr>\n",
       "      <th>unique</th>\n",
       "      <td>2</td>\n",
       "      <td>2</td>\n",
       "      <td>2</td>\n",
       "      <td>2</td>\n",
       "      <td>2</td>\n",
       "      <td>2</td>\n",
       "      <td>2</td>\n",
       "    </tr>\n",
       "    <tr>\n",
       "      <th>top</th>\n",
       "      <td>0</td>\n",
       "      <td>1</td>\n",
       "      <td>0</td>\n",
       "      <td>0</td>\n",
       "      <td>0</td>\n",
       "      <td>0</td>\n",
       "      <td>1</td>\n",
       "    </tr>\n",
       "    <tr>\n",
       "      <th>freq</th>\n",
       "      <td>1423</td>\n",
       "      <td>575</td>\n",
       "      <td>691</td>\n",
       "      <td>725</td>\n",
       "      <td>783</td>\n",
       "      <td>723</td>\n",
       "      <td>749</td>\n",
       "    </tr>\n",
       "  </tbody>\n",
       "</table>\n",
       "</div>"
      ],
      "text/plain": [
       "        service_fee  e_registration  e_authentication  e_application  \\\n",
       "count          1865            1139              1224           1306   \n",
       "unique            2               2                 2              2   \n",
       "top               0               1                 0              0   \n",
       "freq           1423             575               691            725   \n",
       "\n",
       "        e_decision  e_issuance  e_feedback  \n",
       "count         1330        1218        1488  \n",
       "unique           2           2           2  \n",
       "top              0           0           1  \n",
       "freq           783         723         749  "
      ]
     },
     "execution_count": 52,
     "metadata": {},
     "output_type": "execute_result"
    }
   ],
   "source": [
    "# Before converting data, we have to replace some nan columns\n",
    "columns_to_code = ['service_fee', 'e_registration', 'e_authentication','e_application', 'e_decision', 'e_issuance', 'e_feedback']\n",
    "df_inv[columns_to_code].describe()"
   ]
  },
  {
   "cell_type": "code",
   "execution_count": 56,
   "metadata": {},
   "outputs": [
    {
     "data": {
      "text/html": [
       "<div>\n",
       "<style scoped>\n",
       "    .dataframe tbody tr th:only-of-type {\n",
       "        vertical-align: middle;\n",
       "    }\n",
       "\n",
       "    .dataframe tbody tr th {\n",
       "        vertical-align: top;\n",
       "    }\n",
       "\n",
       "    .dataframe thead th {\n",
       "        text-align: right;\n",
       "    }\n",
       "</style>\n",
       "<table border=\"1\" class=\"dataframe\">\n",
       "  <thead>\n",
       "    <tr style=\"text-align: right;\">\n",
       "      <th></th>\n",
       "      <th>fiscal_yr</th>\n",
       "      <th>service_id</th>\n",
       "      <th>service_name_en</th>\n",
       "      <th>service_name_fr</th>\n",
       "      <th>department_name_en</th>\n",
       "      <th>department_name_fr</th>\n",
       "      <th>external_internal</th>\n",
       "      <th>service_type</th>\n",
       "      <th>special_designations</th>\n",
       "      <th>service_description_en</th>\n",
       "      <th>...</th>\n",
       "      <th>special_remarks_en</th>\n",
       "      <th>special_remarks_fr</th>\n",
       "      <th>total_applications</th>\n",
       "      <th>service_fee_code</th>\n",
       "      <th>e_registration_code</th>\n",
       "      <th>e_authentication_code</th>\n",
       "      <th>e_application_code</th>\n",
       "      <th>e_decision_code</th>\n",
       "      <th>e_issuance_code</th>\n",
       "      <th>e_feedback_code</th>\n",
       "    </tr>\n",
       "  </thead>\n",
       "  <tbody>\n",
       "    <tr>\n",
       "      <th>0</th>\n",
       "      <td>2016-2017</td>\n",
       "      <td>135</td>\n",
       "      <td>Farm Debt Mediation Service</td>\n",
       "      <td>Service de médiation en matière d'endettement ...</td>\n",
       "      <td>Agriculture and Agri-Food Canada</td>\n",
       "      <td>Agriculture et Agroalimentaire Canada</td>\n",
       "      <td>extern</td>\n",
       "      <td>res</td>\n",
       "      <td>prior,crit</td>\n",
       "      <td>Provides financial counselling and mediation s...</td>\n",
       "      <td>...</td>\n",
       "      <td>The use of\"NA\" in the  SIN column is an indica...</td>\n",
       "      <td>NaN</td>\n",
       "      <td>282.0</td>\n",
       "      <td>NaN</td>\n",
       "      <td>NaN</td>\n",
       "      <td>NaN</td>\n",
       "      <td>NaN</td>\n",
       "      <td>NaN</td>\n",
       "      <td>NaN</td>\n",
       "      <td>NaN</td>\n",
       "    </tr>\n",
       "    <tr>\n",
       "      <th>1</th>\n",
       "      <td>2016-2017</td>\n",
       "      <td>136</td>\n",
       "      <td>AgriMarketing Program Assurance Systems</td>\n",
       "      <td>Programme Agri-marketing, volet Systèmes d'ass...</td>\n",
       "      <td>Agriculture and Agri-Food Canada</td>\n",
       "      <td>Agriculture et Agroalimentaire Canada</td>\n",
       "      <td>extern</td>\n",
       "      <td>res</td>\n",
       "      <td>prior</td>\n",
       "      <td>Provides funding for the development of nation...</td>\n",
       "      <td>...</td>\n",
       "      <td>NaN</td>\n",
       "      <td>NaN</td>\n",
       "      <td>16.0</td>\n",
       "      <td>NaN</td>\n",
       "      <td>NaN</td>\n",
       "      <td>NaN</td>\n",
       "      <td>NaN</td>\n",
       "      <td>NaN</td>\n",
       "      <td>NaN</td>\n",
       "      <td>NaN</td>\n",
       "    </tr>\n",
       "    <tr>\n",
       "      <th>2</th>\n",
       "      <td>2016-2017</td>\n",
       "      <td>137</td>\n",
       "      <td>AgriMarketing Program Market Development</td>\n",
       "      <td>Programme Agri-marketing, volet Développement ...</td>\n",
       "      <td>Agriculture and Agri-Food Canada</td>\n",
       "      <td>Agriculture et Agroalimentaire Canada</td>\n",
       "      <td>extern</td>\n",
       "      <td>res</td>\n",
       "      <td>prior</td>\n",
       "      <td>Provides funding to industry associations and ...</td>\n",
       "      <td>...</td>\n",
       "      <td>NaN</td>\n",
       "      <td>NaN</td>\n",
       "      <td>141.0</td>\n",
       "      <td>NaN</td>\n",
       "      <td>NaN</td>\n",
       "      <td>NaN</td>\n",
       "      <td>NaN</td>\n",
       "      <td>NaN</td>\n",
       "      <td>NaN</td>\n",
       "      <td>NaN</td>\n",
       "    </tr>\n",
       "    <tr>\n",
       "      <th>3</th>\n",
       "      <td>2016-2017</td>\n",
       "      <td>138</td>\n",
       "      <td>AgriInnovation Program Industry-led Research a...</td>\n",
       "      <td>Programme Agri-innovation, Activités de recher...</td>\n",
       "      <td>Agriculture and Agri-Food Canada</td>\n",
       "      <td>Agriculture et Agroalimentaire Canada</td>\n",
       "      <td>extern</td>\n",
       "      <td>res</td>\n",
       "      <td>prior</td>\n",
       "      <td>Provides support for pre-commercialization Res...</td>\n",
       "      <td>...</td>\n",
       "      <td>NaN</td>\n",
       "      <td>NaN</td>\n",
       "      <td>29.0</td>\n",
       "      <td>NaN</td>\n",
       "      <td>NaN</td>\n",
       "      <td>NaN</td>\n",
       "      <td>NaN</td>\n",
       "      <td>NaN</td>\n",
       "      <td>NaN</td>\n",
       "      <td>NaN</td>\n",
       "    </tr>\n",
       "    <tr>\n",
       "      <th>4</th>\n",
       "      <td>2016-2017</td>\n",
       "      <td>139</td>\n",
       "      <td>AgriInnovation Program Enabling Commercializat...</td>\n",
       "      <td>Programme Agri-innovation, Facilitation de la ...</td>\n",
       "      <td>Agriculture and Agri-Food Canada</td>\n",
       "      <td>Agriculture et Agroalimentaire Canada</td>\n",
       "      <td>extern</td>\n",
       "      <td>res</td>\n",
       "      <td>prior</td>\n",
       "      <td>Provides repayable contributions to approved i...</td>\n",
       "      <td>...</td>\n",
       "      <td>NaN</td>\n",
       "      <td>NaN</td>\n",
       "      <td>36.0</td>\n",
       "      <td>NaN</td>\n",
       "      <td>NaN</td>\n",
       "      <td>NaN</td>\n",
       "      <td>NaN</td>\n",
       "      <td>NaN</td>\n",
       "      <td>NaN</td>\n",
       "      <td>NaN</td>\n",
       "    </tr>\n",
       "  </tbody>\n",
       "</table>\n",
       "<p>5 rows × 45 columns</p>\n",
       "</div>"
      ],
      "text/plain": [
       "   fiscal_yr service_id                                    service_name_en  \\\n",
       "0  2016-2017        135                        Farm Debt Mediation Service   \n",
       "1  2016-2017        136            AgriMarketing Program Assurance Systems   \n",
       "2  2016-2017        137           AgriMarketing Program Market Development   \n",
       "3  2016-2017        138  AgriInnovation Program Industry-led Research a...   \n",
       "4  2016-2017        139  AgriInnovation Program Enabling Commercializat...   \n",
       "\n",
       "                                     service_name_fr  \\\n",
       "0  Service de médiation en matière d'endettement ...   \n",
       "1  Programme Agri-marketing, volet Systèmes d'ass...   \n",
       "2  Programme Agri-marketing, volet Développement ...   \n",
       "3  Programme Agri-innovation, Activités de recher...   \n",
       "4  Programme Agri-innovation, Facilitation de la ...   \n",
       "\n",
       "                 department_name_en                     department_name_fr  \\\n",
       "0  Agriculture and Agri-Food Canada  Agriculture et Agroalimentaire Canada   \n",
       "1  Agriculture and Agri-Food Canada  Agriculture et Agroalimentaire Canada   \n",
       "2  Agriculture and Agri-Food Canada  Agriculture et Agroalimentaire Canada   \n",
       "3  Agriculture and Agri-Food Canada  Agriculture et Agroalimentaire Canada   \n",
       "4  Agriculture and Agri-Food Canada  Agriculture et Agroalimentaire Canada   \n",
       "\n",
       "  external_internal service_type special_designations  \\\n",
       "0            extern          res           prior,crit   \n",
       "1            extern          res                prior   \n",
       "2            extern          res                prior   \n",
       "3            extern          res                prior   \n",
       "4            extern          res                prior   \n",
       "\n",
       "                              service_description_en  ...  \\\n",
       "0  Provides financial counselling and mediation s...  ...   \n",
       "1  Provides funding for the development of nation...  ...   \n",
       "2  Provides funding to industry associations and ...  ...   \n",
       "3  Provides support for pre-commercialization Res...  ...   \n",
       "4  Provides repayable contributions to approved i...  ...   \n",
       "\n",
       "                                  special_remarks_en special_remarks_fr  \\\n",
       "0  The use of\"NA\" in the  SIN column is an indica...                NaN   \n",
       "1                                                NaN                NaN   \n",
       "2                                                NaN                NaN   \n",
       "3                                                NaN                NaN   \n",
       "4                                                NaN                NaN   \n",
       "\n",
       "  total_applications service_fee_code e_registration_code  \\\n",
       "0              282.0              NaN                 NaN   \n",
       "1               16.0              NaN                 NaN   \n",
       "2              141.0              NaN                 NaN   \n",
       "3               29.0              NaN                 NaN   \n",
       "4               36.0              NaN                 NaN   \n",
       "\n",
       "  e_authentication_code e_application_code e_decision_code e_issuance_code  \\\n",
       "0                   NaN                NaN             NaN             NaN   \n",
       "1                   NaN                NaN             NaN             NaN   \n",
       "2                   NaN                NaN             NaN             NaN   \n",
       "3                   NaN                NaN             NaN             NaN   \n",
       "4                   NaN                NaN             NaN             NaN   \n",
       "\n",
       "  e_feedback_code  \n",
       "0             NaN  \n",
       "1             NaN  \n",
       "2             NaN  \n",
       "3             NaN  \n",
       "4             NaN  \n",
       "\n",
       "[5 rows x 45 columns]"
      ]
     },
     "execution_count": 56,
     "metadata": {},
     "output_type": "execute_result"
    }
   ],
   "source": [
    "# Convert categorical data we need to analyze to numerical\n",
    "for col in columns_to_code:\n",
    "    df_inv[col + '_code'] = df_inv[col].map({'N' : 0, 'Y' : 1, np.nan : -1})\n",
    "df_inv.head()"
   ]
  },
  {
   "cell_type": "code",
   "execution_count": null,
   "metadata": {},
   "outputs": [],
   "source": [
    "# Data to fit\n",
    "X = df_inv_16_17[columns_to_code]\n",
    "y = df_inv_16_17.total_applications"
   ]
  },
  {
   "cell_type": "code",
   "execution_count": null,
   "metadata": {},
   "outputs": [],
   "source": [
    "from sklearn.tree import DecisionTreeRegressor\n",
    "tree_model = DecisionTreeRegressor(random_state=15)\n",
    "tree_model.fit(X, y)"
   ]
  },
  {
   "cell_type": "code",
   "execution_count": null,
   "metadata": {},
   "outputs": [],
   "source": [
    "print(\"Data\")\n",
    "print(X)\n",
    "print(y)\n",
    "print(\"Predictions\")\n",
    "print(tree_model.predict(X.head()))"
   ]
  },
  {
   "cell_type": "code",
   "execution_count": null,
   "metadata": {},
   "outputs": [],
   "source": []
  }
 ],
 "metadata": {
  "kernelspec": {
   "display_name": "Python 3",
   "language": "python",
   "name": "python3"
  },
  "language_info": {
   "codemirror_mode": {
    "name": "ipython",
    "version": 3
   },
   "file_extension": ".py",
   "mimetype": "text/x-python",
   "name": "python",
   "nbconvert_exporter": "python",
   "pygments_lexer": "ipython3",
   "version": "3.8.3"
  }
 },
 "nbformat": 4,
 "nbformat_minor": 4
}
