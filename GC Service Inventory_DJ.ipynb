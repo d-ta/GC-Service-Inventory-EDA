{
 "cells": [
  {
   "cell_type": "code",
   "execution_count": 5,
   "metadata": {},
   "outputs": [],
   "source": [
    "import pandas as pd"
   ]
  },
  {
   "cell_type": "code",
   "execution_count": 6,
   "metadata": {},
   "outputs": [],
   "source": [
    "url_inv = \"https://open.canada.ca/data/dataset/3ac0d080-6149-499a-8b06-7ce5f00ec56c/resource/3acf79c0-a5f5-4d9a-a30d-fb5ceba4b60a/download/service_inventory.csv\"\n",
    "url_std = \"https://open.canada.ca/data/dataset/3ac0d080-6149-499a-8b06-7ce5f00ec56c/resource/272143a7-533e-42a1-b72d-622116474a21/download/service_standards.csv\""
   ]
  },
  {
   "cell_type": "code",
   "execution_count": 7,
   "metadata": {},
   "outputs": [],
   "source": [
    "df_inv = pd.read_csv(url_inv)"
   ]
  },
  {
   "cell_type": "code",
   "execution_count": 8,
   "metadata": {},
   "outputs": [
    {
     "data": {
      "text/html": [
       "<div>\n",
       "<style scoped>\n",
       "    .dataframe tbody tr th:only-of-type {\n",
       "        vertical-align: middle;\n",
       "    }\n",
       "\n",
       "    .dataframe tbody tr th {\n",
       "        vertical-align: top;\n",
       "    }\n",
       "\n",
       "    .dataframe thead th {\n",
       "        text-align: right;\n",
       "    }\n",
       "</style>\n",
       "<table border=\"1\" class=\"dataframe\">\n",
       "  <thead>\n",
       "    <tr style=\"text-align: right;\">\n",
       "      <th></th>\n",
       "      <th>fiscal_yr</th>\n",
       "      <th>service_id</th>\n",
       "      <th>service_name_en</th>\n",
       "      <th>service_name_fr</th>\n",
       "      <th>department_name_en</th>\n",
       "      <th>department_name_fr</th>\n",
       "      <th>external_internal</th>\n",
       "      <th>service_type</th>\n",
       "      <th>special_designations</th>\n",
       "      <th>service_description_en</th>\n",
       "      <th>...</th>\n",
       "      <th>other_applications</th>\n",
       "      <th>e_registration</th>\n",
       "      <th>e_authentication</th>\n",
       "      <th>e_application</th>\n",
       "      <th>e_decision</th>\n",
       "      <th>e_issuance</th>\n",
       "      <th>e_feedback</th>\n",
       "      <th>client_feedback</th>\n",
       "      <th>special_remarks_en</th>\n",
       "      <th>special_remarks_fr</th>\n",
       "    </tr>\n",
       "  </thead>\n",
       "  <tbody>\n",
       "    <tr>\n",
       "      <th>0</th>\n",
       "      <td>2016-2017</td>\n",
       "      <td>135</td>\n",
       "      <td>Farm Debt Mediation Service</td>\n",
       "      <td>Service de médiation en matière d'endettement ...</td>\n",
       "      <td>Agriculture and Agri-Food Canada</td>\n",
       "      <td>Agriculture et Agroalimentaire Canada</td>\n",
       "      <td>extern</td>\n",
       "      <td>res</td>\n",
       "      <td>prior,crit</td>\n",
       "      <td>Provides financial counselling and mediation s...</td>\n",
       "      <td>...</td>\n",
       "      <td>0</td>\n",
       "      <td>NaN</td>\n",
       "      <td>NaN</td>\n",
       "      <td>NaN</td>\n",
       "      <td>NaN</td>\n",
       "      <td>NaN</td>\n",
       "      <td>NaN</td>\n",
       "      <td>NaN</td>\n",
       "      <td>The use of\"NA\" in the  SIN column is an indica...</td>\n",
       "      <td>NaN</td>\n",
       "    </tr>\n",
       "    <tr>\n",
       "      <th>1</th>\n",
       "      <td>2016-2017</td>\n",
       "      <td>136</td>\n",
       "      <td>AgriMarketing Program Assurance Systems</td>\n",
       "      <td>Programme Agri-marketing, volet Systèmes d'ass...</td>\n",
       "      <td>Agriculture and Agri-Food Canada</td>\n",
       "      <td>Agriculture et Agroalimentaire Canada</td>\n",
       "      <td>extern</td>\n",
       "      <td>res</td>\n",
       "      <td>prior</td>\n",
       "      <td>Provides funding for the development of nation...</td>\n",
       "      <td>...</td>\n",
       "      <td>0</td>\n",
       "      <td>NaN</td>\n",
       "      <td>NaN</td>\n",
       "      <td>Y</td>\n",
       "      <td>Y</td>\n",
       "      <td>N</td>\n",
       "      <td>N</td>\n",
       "      <td>NaN</td>\n",
       "      <td>NaN</td>\n",
       "      <td>NaN</td>\n",
       "    </tr>\n",
       "    <tr>\n",
       "      <th>2</th>\n",
       "      <td>2016-2017</td>\n",
       "      <td>137</td>\n",
       "      <td>AgriMarketing Program Market Development</td>\n",
       "      <td>Programme Agri-marketing, volet Développement ...</td>\n",
       "      <td>Agriculture and Agri-Food Canada</td>\n",
       "      <td>Agriculture et Agroalimentaire Canada</td>\n",
       "      <td>extern</td>\n",
       "      <td>res</td>\n",
       "      <td>prior</td>\n",
       "      <td>Provides funding to industry associations and ...</td>\n",
       "      <td>...</td>\n",
       "      <td>0</td>\n",
       "      <td>NaN</td>\n",
       "      <td>NaN</td>\n",
       "      <td>Y</td>\n",
       "      <td>Y</td>\n",
       "      <td>N</td>\n",
       "      <td>N</td>\n",
       "      <td>NaN</td>\n",
       "      <td>NaN</td>\n",
       "      <td>NaN</td>\n",
       "    </tr>\n",
       "    <tr>\n",
       "      <th>3</th>\n",
       "      <td>2016-2017</td>\n",
       "      <td>138</td>\n",
       "      <td>AgriInnovation Program Industry-led Research a...</td>\n",
       "      <td>Programme Agri-innovation, Activités de recher...</td>\n",
       "      <td>Agriculture and Agri-Food Canada</td>\n",
       "      <td>Agriculture et Agroalimentaire Canada</td>\n",
       "      <td>extern</td>\n",
       "      <td>res</td>\n",
       "      <td>prior</td>\n",
       "      <td>Provides support for pre-commercialization Res...</td>\n",
       "      <td>...</td>\n",
       "      <td>0</td>\n",
       "      <td>NaN</td>\n",
       "      <td>NaN</td>\n",
       "      <td>Y</td>\n",
       "      <td>Y</td>\n",
       "      <td>N</td>\n",
       "      <td>N</td>\n",
       "      <td>NaN</td>\n",
       "      <td>NaN</td>\n",
       "      <td>NaN</td>\n",
       "    </tr>\n",
       "    <tr>\n",
       "      <th>4</th>\n",
       "      <td>2016-2017</td>\n",
       "      <td>139</td>\n",
       "      <td>AgriInnovation Program Enabling Commercializat...</td>\n",
       "      <td>Programme Agri-innovation, Facilitation de la ...</td>\n",
       "      <td>Agriculture and Agri-Food Canada</td>\n",
       "      <td>Agriculture et Agroalimentaire Canada</td>\n",
       "      <td>extern</td>\n",
       "      <td>res</td>\n",
       "      <td>prior</td>\n",
       "      <td>Provides repayable contributions to approved i...</td>\n",
       "      <td>...</td>\n",
       "      <td>0</td>\n",
       "      <td>NaN</td>\n",
       "      <td>NaN</td>\n",
       "      <td>Y</td>\n",
       "      <td>Y</td>\n",
       "      <td>N</td>\n",
       "      <td>N</td>\n",
       "      <td>NaN</td>\n",
       "      <td>NaN</td>\n",
       "      <td>NaN</td>\n",
       "    </tr>\n",
       "  </tbody>\n",
       "</table>\n",
       "<p>5 rows × 37 columns</p>\n",
       "</div>"
      ],
      "text/plain": [
       "   fiscal_yr service_id                                    service_name_en  \\\n",
       "0  2016-2017        135                        Farm Debt Mediation Service   \n",
       "1  2016-2017        136            AgriMarketing Program Assurance Systems   \n",
       "2  2016-2017        137           AgriMarketing Program Market Development   \n",
       "3  2016-2017        138  AgriInnovation Program Industry-led Research a...   \n",
       "4  2016-2017        139  AgriInnovation Program Enabling Commercializat...   \n",
       "\n",
       "                                     service_name_fr  \\\n",
       "0  Service de médiation en matière d'endettement ...   \n",
       "1  Programme Agri-marketing, volet Systèmes d'ass...   \n",
       "2  Programme Agri-marketing, volet Développement ...   \n",
       "3  Programme Agri-innovation, Activités de recher...   \n",
       "4  Programme Agri-innovation, Facilitation de la ...   \n",
       "\n",
       "                 department_name_en                     department_name_fr  \\\n",
       "0  Agriculture and Agri-Food Canada  Agriculture et Agroalimentaire Canada   \n",
       "1  Agriculture and Agri-Food Canada  Agriculture et Agroalimentaire Canada   \n",
       "2  Agriculture and Agri-Food Canada  Agriculture et Agroalimentaire Canada   \n",
       "3  Agriculture and Agri-Food Canada  Agriculture et Agroalimentaire Canada   \n",
       "4  Agriculture and Agri-Food Canada  Agriculture et Agroalimentaire Canada   \n",
       "\n",
       "  external_internal service_type special_designations  \\\n",
       "0            extern          res           prior,crit   \n",
       "1            extern          res                prior   \n",
       "2            extern          res                prior   \n",
       "3            extern          res                prior   \n",
       "4            extern          res                prior   \n",
       "\n",
       "                              service_description_en  ... other_applications  \\\n",
       "0  Provides financial counselling and mediation s...  ...                  0   \n",
       "1  Provides funding for the development of nation...  ...                  0   \n",
       "2  Provides funding to industry associations and ...  ...                  0   \n",
       "3  Provides support for pre-commercialization Res...  ...                  0   \n",
       "4  Provides repayable contributions to approved i...  ...                  0   \n",
       "\n",
       "  e_registration e_authentication e_application e_decision e_issuance  \\\n",
       "0            NaN              NaN           NaN        NaN        NaN   \n",
       "1            NaN              NaN             Y          Y          N   \n",
       "2            NaN              NaN             Y          Y          N   \n",
       "3            NaN              NaN             Y          Y          N   \n",
       "4            NaN              NaN             Y          Y          N   \n",
       "\n",
       "  e_feedback client_feedback  \\\n",
       "0        NaN             NaN   \n",
       "1          N             NaN   \n",
       "2          N             NaN   \n",
       "3          N             NaN   \n",
       "4          N             NaN   \n",
       "\n",
       "                                  special_remarks_en special_remarks_fr  \n",
       "0  The use of\"NA\" in the  SIN column is an indica...                NaN  \n",
       "1                                                NaN                NaN  \n",
       "2                                                NaN                NaN  \n",
       "3                                                NaN                NaN  \n",
       "4                                                NaN                NaN  \n",
       "\n",
       "[5 rows x 37 columns]"
      ]
     },
     "execution_count": 8,
     "metadata": {},
     "output_type": "execute_result"
    }
   ],
   "source": [
    "df_inv.head()"
   ]
  },
  {
   "cell_type": "code",
   "execution_count": 9,
   "metadata": {},
   "outputs": [
    {
     "data": {
      "text/html": [
       "<div>\n",
       "<style scoped>\n",
       "    .dataframe tbody tr th:only-of-type {\n",
       "        vertical-align: middle;\n",
       "    }\n",
       "\n",
       "    .dataframe tbody tr th {\n",
       "        vertical-align: top;\n",
       "    }\n",
       "\n",
       "    .dataframe thead th {\n",
       "        text-align: right;\n",
       "    }\n",
       "</style>\n",
       "<table border=\"1\" class=\"dataframe\">\n",
       "  <thead>\n",
       "    <tr style=\"text-align: right;\">\n",
       "      <th></th>\n",
       "      <th>fiscal_yr</th>\n",
       "      <th>service_id</th>\n",
       "      <th>service_name_en</th>\n",
       "      <th>service_name_fr</th>\n",
       "      <th>department_name_en</th>\n",
       "      <th>department_name_fr</th>\n",
       "      <th>external_internal</th>\n",
       "      <th>service_type</th>\n",
       "      <th>special_designations</th>\n",
       "      <th>service_description_en</th>\n",
       "      <th>...</th>\n",
       "      <th>other_applications</th>\n",
       "      <th>e_registration</th>\n",
       "      <th>e_authentication</th>\n",
       "      <th>e_application</th>\n",
       "      <th>e_decision</th>\n",
       "      <th>e_issuance</th>\n",
       "      <th>e_feedback</th>\n",
       "      <th>client_feedback</th>\n",
       "      <th>special_remarks_en</th>\n",
       "      <th>special_remarks_fr</th>\n",
       "    </tr>\n",
       "  </thead>\n",
       "  <tbody>\n",
       "    <tr>\n",
       "      <th>count</th>\n",
       "      <td>1865</td>\n",
       "      <td>1865</td>\n",
       "      <td>1865</td>\n",
       "      <td>1865</td>\n",
       "      <td>1865</td>\n",
       "      <td>1865</td>\n",
       "      <td>1865</td>\n",
       "      <td>1865</td>\n",
       "      <td>1865</td>\n",
       "      <td>1865</td>\n",
       "      <td>...</td>\n",
       "      <td>1865</td>\n",
       "      <td>1139</td>\n",
       "      <td>1224</td>\n",
       "      <td>1306</td>\n",
       "      <td>1330</td>\n",
       "      <td>1218</td>\n",
       "      <td>1488</td>\n",
       "      <td>1343</td>\n",
       "      <td>1240</td>\n",
       "      <td>1075</td>\n",
       "    </tr>\n",
       "    <tr>\n",
       "      <th>unique</th>\n",
       "      <td>3</td>\n",
       "      <td>1232</td>\n",
       "      <td>1337</td>\n",
       "      <td>1355</td>\n",
       "      <td>67</td>\n",
       "      <td>68</td>\n",
       "      <td>12</td>\n",
       "      <td>74</td>\n",
       "      <td>9</td>\n",
       "      <td>1416</td>\n",
       "      <td>...</td>\n",
       "      <td>265</td>\n",
       "      <td>2</td>\n",
       "      <td>2</td>\n",
       "      <td>2</td>\n",
       "      <td>2</td>\n",
       "      <td>2</td>\n",
       "      <td>2</td>\n",
       "      <td>99</td>\n",
       "      <td>746</td>\n",
       "      <td>648</td>\n",
       "    </tr>\n",
       "    <tr>\n",
       "      <th>top</th>\n",
       "      <td>2018-2019</td>\n",
       "      <td>1548</td>\n",
       "      <td>Public Enquiries</td>\n",
       "      <td>Renseignements au public</td>\n",
       "      <td>Immigration, Refugees and Citizenship Canada</td>\n",
       "      <td>Immigration, Réfugiés et Citoyenneté Canada</td>\n",
       "      <td>extern</td>\n",
       "      <td>reg</td>\n",
       "      <td>non</td>\n",
       "      <td>The Program makes use of regulatory measures, ...</td>\n",
       "      <td>...</td>\n",
       "      <td>0</td>\n",
       "      <td>Y</td>\n",
       "      <td>N</td>\n",
       "      <td>N</td>\n",
       "      <td>N</td>\n",
       "      <td>N</td>\n",
       "      <td>Y</td>\n",
       "      <td>tel,onl</td>\n",
       "      <td>The value \"NA\" indicates that applications are...</td>\n",
       "      <td>Ce service n'est pas disponible via d'autres m...</td>\n",
       "    </tr>\n",
       "    <tr>\n",
       "      <th>freq</th>\n",
       "      <td>1180</td>\n",
       "      <td>5</td>\n",
       "      <td>9</td>\n",
       "      <td>4</td>\n",
       "      <td>226</td>\n",
       "      <td>226</td>\n",
       "      <td>1461</td>\n",
       "      <td>558</td>\n",
       "      <td>1135</td>\n",
       "      <td>9</td>\n",
       "      <td>...</td>\n",
       "      <td>892</td>\n",
       "      <td>575</td>\n",
       "      <td>691</td>\n",
       "      <td>725</td>\n",
       "      <td>783</td>\n",
       "      <td>723</td>\n",
       "      <td>749</td>\n",
       "      <td>143</td>\n",
       "      <td>37</td>\n",
       "      <td>42</td>\n",
       "    </tr>\n",
       "  </tbody>\n",
       "</table>\n",
       "<p>4 rows × 37 columns</p>\n",
       "</div>"
      ],
      "text/plain": [
       "        fiscal_yr service_id   service_name_en           service_name_fr  \\\n",
       "count        1865       1865              1865                      1865   \n",
       "unique          3       1232              1337                      1355   \n",
       "top     2018-2019       1548  Public Enquiries  Renseignements au public   \n",
       "freq         1180          5                 9                         4   \n",
       "\n",
       "                                  department_name_en  \\\n",
       "count                                           1865   \n",
       "unique                                            67   \n",
       "top     Immigration, Refugees and Citizenship Canada   \n",
       "freq                                             226   \n",
       "\n",
       "                                 department_name_fr external_internal  \\\n",
       "count                                          1865              1865   \n",
       "unique                                           68                12   \n",
       "top     Immigration, Réfugiés et Citoyenneté Canada            extern   \n",
       "freq                                            226              1461   \n",
       "\n",
       "       service_type special_designations  \\\n",
       "count          1865                 1865   \n",
       "unique           74                    9   \n",
       "top             reg                  non   \n",
       "freq            558                 1135   \n",
       "\n",
       "                                   service_description_en  ...  \\\n",
       "count                                                1865  ...   \n",
       "unique                                               1416  ...   \n",
       "top     The Program makes use of regulatory measures, ...  ...   \n",
       "freq                                                    9  ...   \n",
       "\n",
       "       other_applications e_registration e_authentication e_application  \\\n",
       "count                1865           1139             1224          1306   \n",
       "unique                265              2                2             2   \n",
       "top                     0              Y                N             N   \n",
       "freq                  892            575              691           725   \n",
       "\n",
       "       e_decision e_issuance e_feedback client_feedback  \\\n",
       "count        1330       1218       1488            1343   \n",
       "unique          2          2          2              99   \n",
       "top             N          N          Y         tel,onl   \n",
       "freq          783        723        749             143   \n",
       "\n",
       "                                       special_remarks_en  \\\n",
       "count                                                1240   \n",
       "unique                                                746   \n",
       "top     The value \"NA\" indicates that applications are...   \n",
       "freq                                                   37   \n",
       "\n",
       "                                       special_remarks_fr  \n",
       "count                                                1075  \n",
       "unique                                                648  \n",
       "top     Ce service n'est pas disponible via d'autres m...  \n",
       "freq                                                   42  \n",
       "\n",
       "[4 rows x 37 columns]"
      ]
     },
     "execution_count": 9,
     "metadata": {},
     "output_type": "execute_result"
    }
   ],
   "source": [
    "df_inv.describe()"
   ]
  },
  {
   "cell_type": "code",
   "execution_count": 10,
   "metadata": {},
   "outputs": [
    {
     "data": {
      "text/plain": [
       "Index(['fiscal_yr', 'service_id', 'service_name_en', 'service_name_fr',\n",
       "       'department_name_en', 'department_name_fr', 'external_internal',\n",
       "       'service_type', 'special_designations', 'service_description_en',\n",
       "       'service_description_fr', 'service_url_en', 'service_url_fr',\n",
       "       'program_name_en', 'program_name_fr', 'last_GBA',\n",
       "       'client_target_groups', 'info_service', 'service_fee',\n",
       "       'cra_business_number', 'use_of_sin', 'service_channels',\n",
       "       'online_applications', 'web_visits_info_service', 'calls_received',\n",
       "       'in_person_applications', 'postal_mail_applications',\n",
       "       'other_applications', 'e_registration', 'e_authentication',\n",
       "       'e_application', 'e_decision', 'e_issuance', 'e_feedback',\n",
       "       'client_feedback', 'special_remarks_en', 'special_remarks_fr'],\n",
       "      dtype='object')"
      ]
     },
     "execution_count": 10,
     "metadata": {},
     "output_type": "execute_result"
    }
   ],
   "source": [
    "df_inv.columns"
   ]
  },
  {
   "cell_type": "markdown",
   "metadata": {},
   "source": [
    "# Data Cleanup"
   ]
  },
  {
   "cell_type": "markdown",
   "metadata": {},
   "source": [
    "## Numeric columns"
   ]
  },
  {
   "cell_type": "code",
   "execution_count": 11,
   "metadata": {},
   "outputs": [],
   "source": [
    "#Convert object columns to numeric data type.\n",
    "numeric_columns = ['web_visits_info_service', 'calls_received', 'online_applications', 'in_person_applications', 'postal_mail_applications', 'other_applications']\n",
    "for col in numeric_columns:\n",
    "    df_inv[col] = pd.to_numeric(df_inv[col], errors = 'coerce')"
   ]
  },
  {
   "cell_type": "markdown",
   "metadata": {},
   "source": [
    "## Department name\n",
    "\n",
    "AS observed noted by Dia, data over all three years is only available for 11 departments. We restrict ourselves to these.\n",
    "\n",
    "For more information, read comments [here](https://open.canada.ca/data/en/dataset/3ac0d080-6149-499a-8b06-7ce5f00ec56c)."
   ]
  },
  {
   "cell_type": "code",
   "execution_count": 12,
   "metadata": {},
   "outputs": [
    {
     "data": {
      "text/plain": [
       "array(['2016-2017', '2017-2018', '2018-2019'], dtype=object)"
      ]
     },
     "execution_count": 12,
     "metadata": {},
     "output_type": "execute_result"
    }
   ],
   "source": [
    "df_inv.fiscal_yr.unique()"
   ]
  },
  {
   "cell_type": "code",
   "execution_count": 13,
   "metadata": {},
   "outputs": [
    {
     "data": {
      "text/plain": [
       "(1034, 37)"
      ]
     },
     "execution_count": 13,
     "metadata": {},
     "output_type": "execute_result"
    }
   ],
   "source": [
    "departments = df_inv[df_inv.fiscal_yr == '2016-2017'].department_name_en.unique()\n",
    "df_inv_relevantDeps = df_inv[df_inv.department_name_en.isin(departments)]\n",
    "df_inv_relevantDeps.shape"
   ]
  },
  {
   "cell_type": "code",
   "execution_count": 16,
   "metadata": {
    "collapsed": true,
    "jupyter": {
     "outputs_hidden": true
    }
   },
   "outputs": [
    {
     "data": {
      "text/html": [
       "<div>\n",
       "<style scoped>\n",
       "    .dataframe tbody tr th:only-of-type {\n",
       "        vertical-align: middle;\n",
       "    }\n",
       "\n",
       "    .dataframe tbody tr th {\n",
       "        vertical-align: top;\n",
       "    }\n",
       "\n",
       "    .dataframe thead th {\n",
       "        text-align: right;\n",
       "    }\n",
       "</style>\n",
       "<table border=\"1\" class=\"dataframe\">\n",
       "  <thead>\n",
       "    <tr style=\"text-align: right;\">\n",
       "      <th></th>\n",
       "      <th>fiscal_yr</th>\n",
       "      <th>service_id</th>\n",
       "      <th>service_name_en</th>\n",
       "      <th>service_name_fr</th>\n",
       "      <th>department_name_en</th>\n",
       "      <th>department_name_fr</th>\n",
       "      <th>external_internal</th>\n",
       "      <th>service_type</th>\n",
       "      <th>special_designations</th>\n",
       "      <th>service_description_en</th>\n",
       "      <th>...</th>\n",
       "      <th>other_applications</th>\n",
       "      <th>e_registration</th>\n",
       "      <th>e_authentication</th>\n",
       "      <th>e_application</th>\n",
       "      <th>e_decision</th>\n",
       "      <th>e_issuance</th>\n",
       "      <th>e_feedback</th>\n",
       "      <th>client_feedback</th>\n",
       "      <th>special_remarks_en</th>\n",
       "      <th>special_remarks_fr</th>\n",
       "    </tr>\n",
       "  </thead>\n",
       "  <tbody>\n",
       "    <tr>\n",
       "      <th>0</th>\n",
       "      <td>2016-2017</td>\n",
       "      <td>135</td>\n",
       "      <td>Farm Debt Mediation Service</td>\n",
       "      <td>Service de médiation en matière d'endettement ...</td>\n",
       "      <td>Agriculture and Agri-Food Canada</td>\n",
       "      <td>Agriculture et Agroalimentaire Canada</td>\n",
       "      <td>extern</td>\n",
       "      <td>res</td>\n",
       "      <td>prior,crit</td>\n",
       "      <td>Provides financial counselling and mediation s...</td>\n",
       "      <td>...</td>\n",
       "      <td>0.0</td>\n",
       "      <td>NaN</td>\n",
       "      <td>NaN</td>\n",
       "      <td>NaN</td>\n",
       "      <td>NaN</td>\n",
       "      <td>NaN</td>\n",
       "      <td>NaN</td>\n",
       "      <td>NaN</td>\n",
       "      <td>The use of\"NA\" in the  SIN column is an indica...</td>\n",
       "      <td>NaN</td>\n",
       "    </tr>\n",
       "    <tr>\n",
       "      <th>1</th>\n",
       "      <td>2016-2017</td>\n",
       "      <td>136</td>\n",
       "      <td>AgriMarketing Program Assurance Systems</td>\n",
       "      <td>Programme Agri-marketing, volet Systèmes d'ass...</td>\n",
       "      <td>Agriculture and Agri-Food Canada</td>\n",
       "      <td>Agriculture et Agroalimentaire Canada</td>\n",
       "      <td>extern</td>\n",
       "      <td>res</td>\n",
       "      <td>prior</td>\n",
       "      <td>Provides funding for the development of nation...</td>\n",
       "      <td>...</td>\n",
       "      <td>0.0</td>\n",
       "      <td>NaN</td>\n",
       "      <td>NaN</td>\n",
       "      <td>Y</td>\n",
       "      <td>Y</td>\n",
       "      <td>N</td>\n",
       "      <td>N</td>\n",
       "      <td>NaN</td>\n",
       "      <td>NaN</td>\n",
       "      <td>NaN</td>\n",
       "    </tr>\n",
       "    <tr>\n",
       "      <th>2</th>\n",
       "      <td>2016-2017</td>\n",
       "      <td>137</td>\n",
       "      <td>AgriMarketing Program Market Development</td>\n",
       "      <td>Programme Agri-marketing, volet Développement ...</td>\n",
       "      <td>Agriculture and Agri-Food Canada</td>\n",
       "      <td>Agriculture et Agroalimentaire Canada</td>\n",
       "      <td>extern</td>\n",
       "      <td>res</td>\n",
       "      <td>prior</td>\n",
       "      <td>Provides funding to industry associations and ...</td>\n",
       "      <td>...</td>\n",
       "      <td>0.0</td>\n",
       "      <td>NaN</td>\n",
       "      <td>NaN</td>\n",
       "      <td>Y</td>\n",
       "      <td>Y</td>\n",
       "      <td>N</td>\n",
       "      <td>N</td>\n",
       "      <td>NaN</td>\n",
       "      <td>NaN</td>\n",
       "      <td>NaN</td>\n",
       "    </tr>\n",
       "    <tr>\n",
       "      <th>3</th>\n",
       "      <td>2016-2017</td>\n",
       "      <td>138</td>\n",
       "      <td>AgriInnovation Program Industry-led Research a...</td>\n",
       "      <td>Programme Agri-innovation, Activités de recher...</td>\n",
       "      <td>Agriculture and Agri-Food Canada</td>\n",
       "      <td>Agriculture et Agroalimentaire Canada</td>\n",
       "      <td>extern</td>\n",
       "      <td>res</td>\n",
       "      <td>prior</td>\n",
       "      <td>Provides support for pre-commercialization Res...</td>\n",
       "      <td>...</td>\n",
       "      <td>0.0</td>\n",
       "      <td>NaN</td>\n",
       "      <td>NaN</td>\n",
       "      <td>Y</td>\n",
       "      <td>Y</td>\n",
       "      <td>N</td>\n",
       "      <td>N</td>\n",
       "      <td>NaN</td>\n",
       "      <td>NaN</td>\n",
       "      <td>NaN</td>\n",
       "    </tr>\n",
       "    <tr>\n",
       "      <th>4</th>\n",
       "      <td>2016-2017</td>\n",
       "      <td>139</td>\n",
       "      <td>AgriInnovation Program Enabling Commercializat...</td>\n",
       "      <td>Programme Agri-innovation, Facilitation de la ...</td>\n",
       "      <td>Agriculture and Agri-Food Canada</td>\n",
       "      <td>Agriculture et Agroalimentaire Canada</td>\n",
       "      <td>extern</td>\n",
       "      <td>res</td>\n",
       "      <td>prior</td>\n",
       "      <td>Provides repayable contributions to approved i...</td>\n",
       "      <td>...</td>\n",
       "      <td>0.0</td>\n",
       "      <td>NaN</td>\n",
       "      <td>NaN</td>\n",
       "      <td>Y</td>\n",
       "      <td>Y</td>\n",
       "      <td>N</td>\n",
       "      <td>N</td>\n",
       "      <td>NaN</td>\n",
       "      <td>NaN</td>\n",
       "      <td>NaN</td>\n",
       "    </tr>\n",
       "  </tbody>\n",
       "</table>\n",
       "<p>5 rows × 37 columns</p>\n",
       "</div>"
      ],
      "text/plain": [
       "   fiscal_yr service_id                                    service_name_en  \\\n",
       "0  2016-2017        135                        Farm Debt Mediation Service   \n",
       "1  2016-2017        136            AgriMarketing Program Assurance Systems   \n",
       "2  2016-2017        137           AgriMarketing Program Market Development   \n",
       "3  2016-2017        138  AgriInnovation Program Industry-led Research a...   \n",
       "4  2016-2017        139  AgriInnovation Program Enabling Commercializat...   \n",
       "\n",
       "                                     service_name_fr  \\\n",
       "0  Service de médiation en matière d'endettement ...   \n",
       "1  Programme Agri-marketing, volet Systèmes d'ass...   \n",
       "2  Programme Agri-marketing, volet Développement ...   \n",
       "3  Programme Agri-innovation, Activités de recher...   \n",
       "4  Programme Agri-innovation, Facilitation de la ...   \n",
       "\n",
       "                 department_name_en                     department_name_fr  \\\n",
       "0  Agriculture and Agri-Food Canada  Agriculture et Agroalimentaire Canada   \n",
       "1  Agriculture and Agri-Food Canada  Agriculture et Agroalimentaire Canada   \n",
       "2  Agriculture and Agri-Food Canada  Agriculture et Agroalimentaire Canada   \n",
       "3  Agriculture and Agri-Food Canada  Agriculture et Agroalimentaire Canada   \n",
       "4  Agriculture and Agri-Food Canada  Agriculture et Agroalimentaire Canada   \n",
       "\n",
       "  external_internal service_type special_designations  \\\n",
       "0            extern          res           prior,crit   \n",
       "1            extern          res                prior   \n",
       "2            extern          res                prior   \n",
       "3            extern          res                prior   \n",
       "4            extern          res                prior   \n",
       "\n",
       "                              service_description_en  ... other_applications  \\\n",
       "0  Provides financial counselling and mediation s...  ...                0.0   \n",
       "1  Provides funding for the development of nation...  ...                0.0   \n",
       "2  Provides funding to industry associations and ...  ...                0.0   \n",
       "3  Provides support for pre-commercialization Res...  ...                0.0   \n",
       "4  Provides repayable contributions to approved i...  ...                0.0   \n",
       "\n",
       "  e_registration e_authentication e_application e_decision e_issuance  \\\n",
       "0            NaN              NaN           NaN        NaN        NaN   \n",
       "1            NaN              NaN             Y          Y          N   \n",
       "2            NaN              NaN             Y          Y          N   \n",
       "3            NaN              NaN             Y          Y          N   \n",
       "4            NaN              NaN             Y          Y          N   \n",
       "\n",
       "  e_feedback client_feedback  \\\n",
       "0        NaN             NaN   \n",
       "1          N             NaN   \n",
       "2          N             NaN   \n",
       "3          N             NaN   \n",
       "4          N             NaN   \n",
       "\n",
       "                                  special_remarks_en special_remarks_fr  \n",
       "0  The use of\"NA\" in the  SIN column is an indica...                NaN  \n",
       "1                                                NaN                NaN  \n",
       "2                                                NaN                NaN  \n",
       "3                                                NaN                NaN  \n",
       "4                                                NaN                NaN  \n",
       "\n",
       "[5 rows x 37 columns]"
      ]
     },
     "execution_count": 16,
     "metadata": {},
     "output_type": "execute_result"
    }
   ],
   "source": [
    "df_inv_relevantDeps.head()"
   ]
  },
  {
   "cell_type": "markdown",
   "metadata": {},
   "source": [
    "## Selecting relevant columns"
   ]
  },
  {
   "cell_type": "code",
   "execution_count": 24,
   "metadata": {},
   "outputs": [
    {
     "data": {
      "text/html": [
       "<div>\n",
       "<style scoped>\n",
       "    .dataframe tbody tr th:only-of-type {\n",
       "        vertical-align: middle;\n",
       "    }\n",
       "\n",
       "    .dataframe tbody tr th {\n",
       "        vertical-align: top;\n",
       "    }\n",
       "\n",
       "    .dataframe thead th {\n",
       "        text-align: right;\n",
       "    }\n",
       "</style>\n",
       "<table border=\"1\" class=\"dataframe\">\n",
       "  <thead>\n",
       "    <tr style=\"text-align: right;\">\n",
       "      <th></th>\n",
       "      <th>department_name_en</th>\n",
       "      <th>web_visits_info_service</th>\n",
       "      <th>online_applications</th>\n",
       "    </tr>\n",
       "  </thead>\n",
       "  <tbody>\n",
       "    <tr>\n",
       "      <th>0</th>\n",
       "      <td>Agriculture and Agri-Food Canada</td>\n",
       "      <td>0.0</td>\n",
       "      <td>282.0</td>\n",
       "    </tr>\n",
       "    <tr>\n",
       "      <th>1</th>\n",
       "      <td>Agriculture and Agri-Food Canada</td>\n",
       "      <td>0.0</td>\n",
       "      <td>16.0</td>\n",
       "    </tr>\n",
       "    <tr>\n",
       "      <th>2</th>\n",
       "      <td>Agriculture and Agri-Food Canada</td>\n",
       "      <td>0.0</td>\n",
       "      <td>141.0</td>\n",
       "    </tr>\n",
       "    <tr>\n",
       "      <th>3</th>\n",
       "      <td>Agriculture and Agri-Food Canada</td>\n",
       "      <td>0.0</td>\n",
       "      <td>29.0</td>\n",
       "    </tr>\n",
       "    <tr>\n",
       "      <th>4</th>\n",
       "      <td>Agriculture and Agri-Food Canada</td>\n",
       "      <td>0.0</td>\n",
       "      <td>36.0</td>\n",
       "    </tr>\n",
       "  </tbody>\n",
       "</table>\n",
       "</div>"
      ],
      "text/plain": [
       "                 department_name_en  web_visits_info_service  \\\n",
       "0  Agriculture and Agri-Food Canada                      0.0   \n",
       "1  Agriculture and Agri-Food Canada                      0.0   \n",
       "2  Agriculture and Agri-Food Canada                      0.0   \n",
       "3  Agriculture and Agri-Food Canada                      0.0   \n",
       "4  Agriculture and Agri-Food Canada                      0.0   \n",
       "\n",
       "   online_applications  \n",
       "0                282.0  \n",
       "1                 16.0  \n",
       "2                141.0  \n",
       "3                 29.0  \n",
       "4                 36.0  "
      ]
     },
     "execution_count": 24,
     "metadata": {},
     "output_type": "execute_result"
    }
   ],
   "source": [
    "df_inv_online_data = df_inv_relevantDeps[['department_name_en', 'web_visits_info_service', 'online_applications']]\n",
    "df_inv_online_data.head()"
   ]
  },
  {
   "cell_type": "code",
   "execution_count": 34,
   "metadata": {},
   "outputs": [
    {
     "data": {
      "text/html": [
       "<div>\n",
       "<style scoped>\n",
       "    .dataframe tbody tr th:only-of-type {\n",
       "        vertical-align: middle;\n",
       "    }\n",
       "\n",
       "    .dataframe tbody tr th {\n",
       "        vertical-align: top;\n",
       "    }\n",
       "\n",
       "    .dataframe thead th {\n",
       "        text-align: right;\n",
       "    }\n",
       "</style>\n",
       "<table border=\"1\" class=\"dataframe\">\n",
       "  <thead>\n",
       "    <tr style=\"text-align: right;\">\n",
       "      <th></th>\n",
       "      <th>web_visits_info_service</th>\n",
       "      <th>online_applications</th>\n",
       "    </tr>\n",
       "    <tr>\n",
       "      <th>department_name_en</th>\n",
       "      <th></th>\n",
       "      <th></th>\n",
       "    </tr>\n",
       "  </thead>\n",
       "  <tbody>\n",
       "    <tr>\n",
       "      <th>Agriculture and Agri-Food Canada</th>\n",
       "      <td>8.259110e+05</td>\n",
       "      <td>379289.0</td>\n",
       "    </tr>\n",
       "    <tr>\n",
       "      <th>Canada Border Services Agency</th>\n",
       "      <td>0.000000e+00</td>\n",
       "      <td>58285401.0</td>\n",
       "    </tr>\n",
       "    <tr>\n",
       "      <th>Canada Revenue Agency</th>\n",
       "      <td>8.707000e+04</td>\n",
       "      <td>291896755.0</td>\n",
       "    </tr>\n",
       "    <tr>\n",
       "      <th>Canada School of Public Service</th>\n",
       "      <td>2.607287e+06</td>\n",
       "      <td>425.0</td>\n",
       "    </tr>\n",
       "    <tr>\n",
       "      <th>Canadian Food Inspection Agency</th>\n",
       "      <td>0.000000e+00</td>\n",
       "      <td>5705.0</td>\n",
       "    </tr>\n",
       "    <tr>\n",
       "      <th>Employment and Social Development Canada</th>\n",
       "      <td>1.343734e+09</td>\n",
       "      <td>15753276.0</td>\n",
       "    </tr>\n",
       "    <tr>\n",
       "      <th>Immigration, Refugees and Citizenship Canada</th>\n",
       "      <td>8.627656e+07</td>\n",
       "      <td>19191782.0</td>\n",
       "    </tr>\n",
       "    <tr>\n",
       "      <th>Innovation, Science and Economic Development Canada</th>\n",
       "      <td>1.769771e+07</td>\n",
       "      <td>8839475.0</td>\n",
       "    </tr>\n",
       "    <tr>\n",
       "      <th>Public Services and Procurement Canada</th>\n",
       "      <td>8.495145e+07</td>\n",
       "      <td>663757757.0</td>\n",
       "    </tr>\n",
       "    <tr>\n",
       "      <th>Shared Services Canada</th>\n",
       "      <td>6.320870e+05</td>\n",
       "      <td>13987717.0</td>\n",
       "    </tr>\n",
       "    <tr>\n",
       "      <th>Veterans Affairs Canada</th>\n",
       "      <td>1.010277e+06</td>\n",
       "      <td>43162.0</td>\n",
       "    </tr>\n",
       "  </tbody>\n",
       "</table>\n",
       "</div>"
      ],
      "text/plain": [
       "                                                    web_visits_info_service  \\\n",
       "department_name_en                                                            \n",
       "Agriculture and Agri-Food Canada                               8.259110e+05   \n",
       "Canada Border Services Agency                                  0.000000e+00   \n",
       "Canada Revenue Agency                                          8.707000e+04   \n",
       "Canada School of Public Service                                2.607287e+06   \n",
       "Canadian Food Inspection Agency                                0.000000e+00   \n",
       "Employment and Social Development Canada                       1.343734e+09   \n",
       "Immigration, Refugees and Citizenship Canada                   8.627656e+07   \n",
       "Innovation, Science and Economic Development Ca...             1.769771e+07   \n",
       "Public Services and Procurement Canada                         8.495145e+07   \n",
       "Shared Services Canada                                         6.320870e+05   \n",
       "Veterans Affairs Canada                                        1.010277e+06   \n",
       "\n",
       "                                                    online_applications  \n",
       "department_name_en                                                       \n",
       "Agriculture and Agri-Food Canada                               379289.0  \n",
       "Canada Border Services Agency                                58285401.0  \n",
       "Canada Revenue Agency                                       291896755.0  \n",
       "Canada School of Public Service                                   425.0  \n",
       "Canadian Food Inspection Agency                                  5705.0  \n",
       "Employment and Social Development Canada                     15753276.0  \n",
       "Immigration, Refugees and Citizenship Canada                 19191782.0  \n",
       "Innovation, Science and Economic Development Ca...            8839475.0  \n",
       "Public Services and Procurement Canada                      663757757.0  \n",
       "Shared Services Canada                                       13987717.0  \n",
       "Veterans Affairs Canada                                         43162.0  "
      ]
     },
     "execution_count": 34,
     "metadata": {},
     "output_type": "execute_result"
    }
   ],
   "source": [
    "df_inv_online_data = df_inv_online_data.groupby('department_name_en').agg('sum')\n",
    "df_inv_online_data"
   ]
  },
  {
   "cell_type": "code",
   "execution_count": 26,
   "metadata": {},
   "outputs": [
    {
     "data": {
      "text/plain": [
       "(array([-2.,  0.,  2.,  4.,  6.,  8., 10., 12.]),\n",
       " <a list of 8 Text xticklabel objects>)"
      ]
     },
     "execution_count": 26,
     "metadata": {},
     "output_type": "execute_result"
    },
    {
     "data": {
      "image/png": "[encoded data removed]",
      "text/plain": [
       "<Figure size 432x288 with 1 Axes>"
      ]
     },
     "metadata": {
      "needs_background": "light"
     },
     "output_type": "display_data"
    }
   ],
   "source": [
    "import matplotlib.pyplot as plt\n",
    "df_inv_online_data.plot()\n",
    "plt.xticks(rotation = 90)"
   ]
  },
  {
   "cell_type": "code",
   "execution_count": 193,
   "metadata": {},
   "outputs": [
    {
     "data": {
      "text/plain": [
       "<matplotlib.axes._subplots.AxesSubplot at 0x7fd9efcb0190>"
      ]
     },
     "execution_count": 193,
     "metadata": {},
     "output_type": "execute_result"
    },
    {
     "data": {
      "image/png": "[encoded data removed]",
      "text/plain": [
       "<Figure size 432x288 with 1 Axes>"
      ]
     },
     "metadata": {
      "needs_background": "light"
     },
     "output_type": "display_data"
    }
   ],
   "source": [
    "df_inv_online_data.plot(kind='scatter',x='web_visits_info_service',y='online_applications')"
   ]
  },
  {
   "cell_type": "markdown",
   "metadata": {},
   "source": [
    "## Seperating by Year\n",
    "\n",
    "Looking at same data above, seperated by year. (Just curious)"
   ]
  },
  {
   "cell_type": "code",
   "execution_count": 18,
   "metadata": {},
   "outputs": [
    {
     "data": {
      "text/html": [
       "<div>\n",
       "<style scoped>\n",
       "    .dataframe tbody tr th:only-of-type {\n",
       "        vertical-align: middle;\n",
       "    }\n",
       "\n",
       "    .dataframe tbody tr th {\n",
       "        vertical-align: top;\n",
       "    }\n",
       "\n",
       "    .dataframe thead th {\n",
       "        text-align: right;\n",
       "    }\n",
       "</style>\n",
       "<table border=\"1\" class=\"dataframe\">\n",
       "  <thead>\n",
       "    <tr style=\"text-align: right;\">\n",
       "      <th></th>\n",
       "      <th>fiscal_yr</th>\n",
       "      <th>department_name_en</th>\n",
       "      <th>web_visits_info_service</th>\n",
       "      <th>online_applications</th>\n",
       "    </tr>\n",
       "  </thead>\n",
       "  <tbody>\n",
       "    <tr>\n",
       "      <th>0</th>\n",
       "      <td>2016-2017</td>\n",
       "      <td>Agriculture and Agri-Food Canada</td>\n",
       "      <td>0.0</td>\n",
       "      <td>282.0</td>\n",
       "    </tr>\n",
       "    <tr>\n",
       "      <th>1</th>\n",
       "      <td>2016-2017</td>\n",
       "      <td>Agriculture and Agri-Food Canada</td>\n",
       "      <td>0.0</td>\n",
       "      <td>16.0</td>\n",
       "    </tr>\n",
       "    <tr>\n",
       "      <th>2</th>\n",
       "      <td>2016-2017</td>\n",
       "      <td>Agriculture and Agri-Food Canada</td>\n",
       "      <td>0.0</td>\n",
       "      <td>141.0</td>\n",
       "    </tr>\n",
       "    <tr>\n",
       "      <th>3</th>\n",
       "      <td>2016-2017</td>\n",
       "      <td>Agriculture and Agri-Food Canada</td>\n",
       "      <td>0.0</td>\n",
       "      <td>29.0</td>\n",
       "    </tr>\n",
       "    <tr>\n",
       "      <th>4</th>\n",
       "      <td>2016-2017</td>\n",
       "      <td>Agriculture and Agri-Food Canada</td>\n",
       "      <td>0.0</td>\n",
       "      <td>36.0</td>\n",
       "    </tr>\n",
       "  </tbody>\n",
       "</table>\n",
       "</div>"
      ],
      "text/plain": [
       "   fiscal_yr                department_name_en  web_visits_info_service  \\\n",
       "0  2016-2017  Agriculture and Agri-Food Canada                      0.0   \n",
       "1  2016-2017  Agriculture and Agri-Food Canada                      0.0   \n",
       "2  2016-2017  Agriculture and Agri-Food Canada                      0.0   \n",
       "3  2016-2017  Agriculture and Agri-Food Canada                      0.0   \n",
       "4  2016-2017  Agriculture and Agri-Food Canada                      0.0   \n",
       "\n",
       "   online_applications  \n",
       "0                282.0  \n",
       "1                 16.0  \n",
       "2                141.0  \n",
       "3                 29.0  \n",
       "4                 36.0  "
      ]
     },
     "execution_count": 18,
     "metadata": {},
     "output_type": "execute_result"
    }
   ],
   "source": [
    "df_inv_online_data_w_yr = df_inv_relevantDeps[[\n",
    "'fiscal_yr','department_name_en', 'web_visits_info_service', 'online_applications']]\n",
    "df_inv_online_data_w_yr.head()"
   ]
  },
  {
   "cell_type": "code",
   "execution_count": 20,
   "metadata": {},
   "outputs": [],
   "source": [
    "df_inv_onine_data_1617=df_inv_online_data_w_yr[df_inv_online_data_w_yr.fiscal_yr=='2016-2017']"
   ]
  },
  {
   "cell_type": "code",
   "execution_count": 46,
   "metadata": {},
   "outputs": [
    {
     "data": {
      "text/plain": [
       "(11, 2)"
      ]
     },
     "execution_count": 46,
     "metadata": {},
     "output_type": "execute_result"
    }
   ],
   "source": [
    "#group by department\n",
    "df_inv_onine_data_1617=df_inv_onine_data_1617.groupby('department_name_en').agg(sum)\n",
    "df_inv_onine_data_1617.shape"
   ]
  },
  {
   "cell_type": "code",
   "execution_count": 44,
   "metadata": {},
   "outputs": [
    {
     "data": {
      "image/png": "[encoded data removed]",
      "text/plain": [
       "<Figure size 432x288 with 1 Axes>"
      ]
     },
     "metadata": {
      "needs_background": "light"
     },
     "output_type": "display_data"
    }
   ],
   "source": [
    "df_inv_onine_data_1617.plot()\n",
    "plt.xticks(rotation = 90)\n",
    "#plt.legend()\n",
    "plt.show()"
   ]
  },
  {
   "cell_type": "markdown",
   "metadata": {},
   "source": [
    "# Merge Experiment\n",
    "\n",
    "Merged all departments together to 1) show a way to do that with quatitative data and 2) play arund with plotting multiple bar charts\n",
    "\n",
    "Inclduing it here just so people can be see. May delete later. "
   ]
  },
  {
   "cell_type": "code",
   "execution_count": 114,
   "metadata": {
    "collapsed": true,
    "jupyter": {
     "outputs_hidden": true
    }
   },
   "outputs": [
    {
     "data": {
      "text/html": [
       "<div>\n",
       "<style scoped>\n",
       "    .dataframe tbody tr th:only-of-type {\n",
       "        vertical-align: middle;\n",
       "    }\n",
       "\n",
       "    .dataframe tbody tr th {\n",
       "        vertical-align: top;\n",
       "    }\n",
       "\n",
       "    .dataframe thead th {\n",
       "        text-align: right;\n",
       "    }\n",
       "</style>\n",
       "<table border=\"1\" class=\"dataframe\">\n",
       "  <thead>\n",
       "    <tr style=\"text-align: right;\">\n",
       "      <th></th>\n",
       "      <th>fiscal_yr</th>\n",
       "      <th>department_name_en</th>\n",
       "      <th>online_applications</th>\n",
       "      <th>in_person_applications</th>\n",
       "      <th>postal_mail_applications</th>\n",
       "      <th>other_applications</th>\n",
       "    </tr>\n",
       "  </thead>\n",
       "  <tbody>\n",
       "    <tr>\n",
       "      <th>0</th>\n",
       "      <td>2016-2017</td>\n",
       "      <td>Agriculture and Agri-Food Canada</td>\n",
       "      <td>282.0</td>\n",
       "      <td>0.0</td>\n",
       "      <td>0.0</td>\n",
       "      <td>0.0</td>\n",
       "    </tr>\n",
       "    <tr>\n",
       "      <th>1</th>\n",
       "      <td>2016-2017</td>\n",
       "      <td>Agriculture and Agri-Food Canada</td>\n",
       "      <td>16.0</td>\n",
       "      <td>0.0</td>\n",
       "      <td>0.0</td>\n",
       "      <td>0.0</td>\n",
       "    </tr>\n",
       "    <tr>\n",
       "      <th>2</th>\n",
       "      <td>2016-2017</td>\n",
       "      <td>Agriculture and Agri-Food Canada</td>\n",
       "      <td>141.0</td>\n",
       "      <td>0.0</td>\n",
       "      <td>0.0</td>\n",
       "      <td>0.0</td>\n",
       "    </tr>\n",
       "    <tr>\n",
       "      <th>3</th>\n",
       "      <td>2016-2017</td>\n",
       "      <td>Agriculture and Agri-Food Canada</td>\n",
       "      <td>29.0</td>\n",
       "      <td>0.0</td>\n",
       "      <td>0.0</td>\n",
       "      <td>0.0</td>\n",
       "    </tr>\n",
       "    <tr>\n",
       "      <th>4</th>\n",
       "      <td>2016-2017</td>\n",
       "      <td>Agriculture and Agri-Food Canada</td>\n",
       "      <td>36.0</td>\n",
       "      <td>0.0</td>\n",
       "      <td>0.0</td>\n",
       "      <td>0.0</td>\n",
       "    </tr>\n",
       "  </tbody>\n",
       "</table>\n",
       "</div>"
      ],
      "text/plain": [
       "   fiscal_yr                department_name_en  online_applications  \\\n",
       "0  2016-2017  Agriculture and Agri-Food Canada                282.0   \n",
       "1  2016-2017  Agriculture and Agri-Food Canada                 16.0   \n",
       "2  2016-2017  Agriculture and Agri-Food Canada                141.0   \n",
       "3  2016-2017  Agriculture and Agri-Food Canada                 29.0   \n",
       "4  2016-2017  Agriculture and Agri-Food Canada                 36.0   \n",
       "\n",
       "   in_person_applications  postal_mail_applications  other_applications  \n",
       "0                     0.0                       0.0                 0.0  \n",
       "1                     0.0                       0.0                 0.0  \n",
       "2                     0.0                       0.0                 0.0  \n",
       "3                     0.0                       0.0                 0.0  \n",
       "4                     0.0                       0.0                 0.0  "
      ]
     },
     "execution_count": 114,
     "metadata": {},
     "output_type": "execute_result"
    }
   ],
   "source": [
    "df_inv_apps_data = df_inv_relevantDeps[['fiscal_yr','department_name_en', 'online_applications', 'in_person_applications', 'postal_mail_applications', 'other_applications']]\n",
    "df_inv_apps_data.head()"
   ]
  },
  {
   "cell_type": "code",
   "execution_count": 115,
   "metadata": {},
   "outputs": [],
   "source": [
    "del df_inv_apps_data['department_name_en']"
   ]
  },
  {
   "cell_type": "code",
   "execution_count": 117,
   "metadata": {},
   "outputs": [
    {
     "name": "stderr",
     "output_type": "stream",
     "text": [
      "C:\\Users\\jloui\\anaconda3\\lib\\site-packages\\ipykernel_launcher.py:2: SettingWithCopyWarning: \n",
      "A value is trying to be set on a copy of a slice from a DataFrame.\n",
      "Try using .loc[row_indexer,col_indexer] = value instead\n",
      "\n",
      "See the caveats in the documentation: https://pandas.pydata.org/pandas-docs/stable/user_guide/indexing.html#returning-a-view-versus-a-copy\n",
      "  \n"
     ]
    }
   ],
   "source": [
    "column_list=['online_applications', 'in_person_applications', 'postal_mail_applications', 'other_applications']\n",
    "df_inv_apps_data[\"total_applications\"]=df_inv_apps_data[column_list].agg(sum, axis=1)"
   ]
  },
  {
   "cell_type": "code",
   "execution_count": 118,
   "metadata": {},
   "outputs": [
    {
     "data": {
      "text/html": [
       "<div>\n",
       "<style scoped>\n",
       "    .dataframe tbody tr th:only-of-type {\n",
       "        vertical-align: middle;\n",
       "    }\n",
       "\n",
       "    .dataframe tbody tr th {\n",
       "        vertical-align: top;\n",
       "    }\n",
       "\n",
       "    .dataframe thead th {\n",
       "        text-align: right;\n",
       "    }\n",
       "</style>\n",
       "<table border=\"1\" class=\"dataframe\">\n",
       "  <thead>\n",
       "    <tr style=\"text-align: right;\">\n",
       "      <th></th>\n",
       "      <th>online_applications</th>\n",
       "      <th>in_person_applications</th>\n",
       "      <th>postal_mail_applications</th>\n",
       "      <th>other_applications</th>\n",
       "      <th>total_applications</th>\n",
       "    </tr>\n",
       "    <tr>\n",
       "      <th>fiscal_yr</th>\n",
       "      <th></th>\n",
       "      <th></th>\n",
       "      <th></th>\n",
       "      <th></th>\n",
       "      <th></th>\n",
       "    </tr>\n",
       "  </thead>\n",
       "  <tbody>\n",
       "    <tr>\n",
       "      <th>2016-2017</th>\n",
       "      <td>478579219.0</td>\n",
       "      <td>125849035.0</td>\n",
       "      <td>74259072.0</td>\n",
       "      <td>5862.0</td>\n",
       "      <td>678693188.0</td>\n",
       "    </tr>\n",
       "    <tr>\n",
       "      <th>2017-2018</th>\n",
       "      <td>440649111.0</td>\n",
       "      <td>119139223.0</td>\n",
       "      <td>25571726.0</td>\n",
       "      <td>4870600.0</td>\n",
       "      <td>590230660.0</td>\n",
       "    </tr>\n",
       "    <tr>\n",
       "      <th>2018-2019</th>\n",
       "      <td>152912414.0</td>\n",
       "      <td>118033163.0</td>\n",
       "      <td>41274701.0</td>\n",
       "      <td>3977781.0</td>\n",
       "      <td>316198059.0</td>\n",
       "    </tr>\n",
       "  </tbody>\n",
       "</table>\n",
       "</div>"
      ],
      "text/plain": [
       "           online_applications  in_person_applications  \\\n",
       "fiscal_yr                                                \n",
       "2016-2017          478579219.0             125849035.0   \n",
       "2017-2018          440649111.0             119139223.0   \n",
       "2018-2019          152912414.0             118033163.0   \n",
       "\n",
       "           postal_mail_applications  other_applications  total_applications  \n",
       "fiscal_yr                                                                    \n",
       "2016-2017                74259072.0              5862.0         678693188.0  \n",
       "2017-2018                25571726.0           4870600.0         590230660.0  \n",
       "2018-2019                41274701.0           3977781.0         316198059.0  "
      ]
     },
     "execution_count": 118,
     "metadata": {},
     "output_type": "execute_result"
    }
   ],
   "source": [
    "df_inv_apps_data_merge=df_inv_apps_data.groupby('fiscal_yr').agg(sum)\n",
    "df_inv_apps_data_merge.head()"
   ]
  },
  {
   "cell_type": "code",
   "execution_count": 121,
   "metadata": {},
   "outputs": [
    {
     "data": {
      "image/png": "[encoded data removed]",
      "text/plain": [
       "<Figure size 432x288 with 1 Axes>"
      ]
     },
     "metadata": {
      "needs_background": "light"
     },
     "output_type": "display_data"
    },
    {
     "data": {
      "image/png": "[encoded data removed]",
      "text/plain": [
       "<Figure size 432x288 with 1 Axes>"
      ]
     },
     "metadata": {
      "needs_background": "light"
     },
     "output_type": "display_data"
    },
    {
     "data": {
      "image/png": "[encoded data removed]",
      "text/plain": [
       "<Figure size 432x288 with 1 Axes>"
      ]
     },
     "metadata": {
      "needs_background": "light"
     },
     "output_type": "display_data"
    },
    {
     "data": {
      "image/png": "[encoded data removed]",
      "text/plain": [
       "<Figure size 432x288 with 1 Axes>"
      ]
     },
     "metadata": {
      "needs_background": "light"
     },
     "output_type": "display_data"
    },
    {
     "data": {
      "image/png": "[encoded data removed]",
      "text/plain": [
       "<Figure size 432x288 with 1 Axes>"
      ]
     },
     "metadata": {
      "needs_background": "light"
     },
     "output_type": "display_data"
    }
   ],
   "source": [
    "fig1, ax1=plt.subplots()\n",
    "\n",
    "ax1.bar(df_inv_apps_data_merge.index, df_inv_apps_data_merge.online_applications, label='online applications')\n",
    "ax1.set_title(\"Online Applications\")\n",
    "fig2,ax2=plt.subplots()\n",
    "ax2.bar(df_inv_apps_data_merge.index, df_inv_apps_data_merge.in_person_applications)\n",
    "ax2.set_title('In-person Applications')\n",
    "\n",
    "fig3, ax3=plt.subplots()\n",
    "ax3.bar(df_inv_apps_data_merge.index, df_inv_apps_data_merge.postal_mail_applications)\n",
    "\n",
    "fig4, ax4=plt.subplots()\n",
    "ax4.bar(df_inv_apps_data_merge.index, df_inv_apps_data_merge.other_applications)\n",
    "ax4.set_title(\"Other applications\")\n",
    "\n",
    "fig5, ax5=plt.subplots()\n",
    "ax5.bar(df_inv_apps_data_merge.index, df_inv_apps_data_merge.total_applications)\n",
    "ax5.set_title(\"Total applications\")\n",
    "\n",
    "plt.show()"
   ]
  }
 ],
 "metadata": {
  "kernelspec": {
   "display_name": "Python 3",
   "language": "python",
   "name": "python3"
  },
  "language_info": {
   "codemirror_mode": {
    "name": "ipython",
    "version": 3
   },
   "file_extension": ".py",
   "mimetype": "text/x-python",
   "name": "python",
   "nbconvert_exporter": "python",
   "pygments_lexer": "ipython3",
   "version": "3.7.6"
  }
 },
 "nbformat": 4,
 "nbformat_minor": 4
}
