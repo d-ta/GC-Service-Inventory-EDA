{
 "cells": [
  {
   "cell_type": "code",
   "execution_count": null,
   "metadata": {},
   "outputs": [],
   "source": [
    "install.packages(\"tidyverse\")\n",
    "library(ggplot2)\n",
    "library(tidyverse)\n",
    "\n",
    "d=read.csv(\"https://open.canada.ca/data/dataset/3ac0d080-6149-499a-8b06-7ce5f00ec56c/resource/3acf79c0-a5f5-4d9a-a30d-fb5ceba4b60a/download/service_inventory.csv\")\n",
    "\n",
    "############### This part code from DANYI ########3\n",
    "data1=unique(d[which(d$fiscal_yr==d$fiscal_yr[1]),]$department_name_en)\n",
    "data2=unique(d[which(d$fiscal_yr==d$fiscal_yr[2]),]$department_name_en)\n",
    "data3=unique(d[which(d$fiscal_yr==d$fiscal_yr[3]),]$department_name_en)\n",
    "inter=intersect(data1,data2)\n",
    "dep=intersect(inter,data3)\n",
    "\n",
    "\n",
    "\n",
    "###############\n",
    "d2 = d[,-c(2:4,6:22,29:37)]%>% as_tibble()%>%  #### convert to tbl clss\n",
    "  mutate(across(online_applications:other_applications, as.numeric))%>% #### convert charistice to numeric \n",
    "  group_by(department_name_en, fiscal_yr)%>%  #### group by depar name & fiscal year\n",
    "  summarise(across(online_applications:other_applications, ~sum(., na.rm = T)))%>% #### summarize the applications\n",
    "  ungroup%>% \n",
    "  mutate(across(online_applications:other_applications, ~./1000 )) %>% #### data scale by 1000 \n",
    "  mutate(across(fiscal_yr, as.factor))%>%\n",
    "  filter( department_name_en %in% dep)\n",
    "\n",
    "\n",
    "#### multi-panel plots\n",
    "d3 = pivot_longer(d2, -c( \"department_name_en\", \"fiscal_yr\"), names_to = \"application\", values_to = \"val\") \n",
    "\n",
    "ggplot(d3, aes(x = fiscal_yr, y = val, group = department_name_en, color = department_name_en   ))+ \n",
    "  geom_line()+\n",
    "  geom_point()+\n",
    "  facet_wrap(~ application ) \n",
    "\n",
    "\n",
    "\n"
   ]
  }
 ],
 "metadata": {
  "kernelspec": {
   "display_name": "R",
   "language": "R",
   "name": "ir"
  }
 },
 "nbformat": 4,
 "nbformat_minor": 4
}
