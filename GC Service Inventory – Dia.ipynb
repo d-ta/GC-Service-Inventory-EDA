{
 "cells": [
  {
   "cell_type": "markdown",
   "metadata": {},
   "source": [
    "# Problem Description\n",
    "\n",
    "In this notebook, we explore the Service Inventory data provided by the Government of Canada on their [Open Government website](https://open.canada.ca/data/en/dataset/3ac0d080-6149-499a-8b06-7ce5f00ec56c).\n",
    "\n",
    "# Obtaining Data\n",
    "\n",
    "## Importing Libraries"
   ]
  },
  {
   "cell_type": "code",
   "execution_count": 1,
   "metadata": {},
   "outputs": [],
   "source": [
    "import pandas as pd\n",
    "import matplotlib.pyplot as plt"
   ]
  },
  {
   "cell_type": "markdown",
   "metadata": {},
   "source": [
    "## Loading Datasets"
   ]
  },
  {
   "cell_type": "code",
   "execution_count": 2,
   "metadata": {},
   "outputs": [],
   "source": [
    "#url_inv = \"https://open.canada.ca/data/dataset/3ac0d080-6149-499a-8b06-7ce5f00ec56c/resource/3acf79c0-a5f5-4d9a-a30d-fb5ceba4b60a/download/service_inventory.csv\"\n",
    "filename_inv = \"service_inventory.csv\"\n",
    "#df_inv = pd.read_csv(url_inv, keep_default_na=False)\n",
    "#df_inv.to_csv(filename_inv)\n",
    "df_inv = pd.read_csv(filename_inv, na_values=[''], keep_default_na=False)\n",
    "\n",
    "#url_std = \"https://open.canada.ca/data/dataset/3ac0d080-6149-499a-8b06-7ce5f00ec56c/resource/272143a7-533e-42a1-b72d-622116474a21/download/service_standards.csv\"\n",
    "#df_std = pd.read_csv(url_std)"
   ]
  },
  {
   "cell_type": "code",
   "execution_count": 3,
   "metadata": {},
   "outputs": [
    {
     "data": {
      "text/html": [
       "<div>\n",
       "<style scoped>\n",
       "    .dataframe tbody tr th:only-of-type {\n",
       "        vertical-align: middle;\n",
       "    }\n",
       "\n",
       "    .dataframe tbody tr th {\n",
       "        vertical-align: top;\n",
       "    }\n",
       "\n",
       "    .dataframe thead th {\n",
       "        text-align: right;\n",
       "    }\n",
       "</style>\n",
       "<table border=\"1\" class=\"dataframe\">\n",
       "  <thead>\n",
       "    <tr style=\"text-align: right;\">\n",
       "      <th></th>\n",
       "      <th>Unnamed: 0</th>\n",
       "      <th>fiscal_yr</th>\n",
       "      <th>service_id</th>\n",
       "      <th>service_name_en</th>\n",
       "      <th>service_name_fr</th>\n",
       "      <th>department_name_en</th>\n",
       "      <th>department_name_fr</th>\n",
       "      <th>external_internal</th>\n",
       "      <th>service_type</th>\n",
       "      <th>special_designations</th>\n",
       "      <th>...</th>\n",
       "      <th>other_applications</th>\n",
       "      <th>e_registration</th>\n",
       "      <th>e_authentication</th>\n",
       "      <th>e_application</th>\n",
       "      <th>e_decision</th>\n",
       "      <th>e_issuance</th>\n",
       "      <th>e_feedback</th>\n",
       "      <th>client_feedback</th>\n",
       "      <th>special_remarks_en</th>\n",
       "      <th>special_remarks_fr</th>\n",
       "    </tr>\n",
       "  </thead>\n",
       "  <tbody>\n",
       "    <tr>\n",
       "      <th>0</th>\n",
       "      <td>0</td>\n",
       "      <td>2016-2017</td>\n",
       "      <td>135</td>\n",
       "      <td>Farm Debt Mediation Service</td>\n",
       "      <td>Service de médiation en matière d'endettement ...</td>\n",
       "      <td>Agriculture and Agri-Food Canada</td>\n",
       "      <td>Agriculture et Agroalimentaire Canada</td>\n",
       "      <td>extern</td>\n",
       "      <td>res</td>\n",
       "      <td>prior,crit</td>\n",
       "      <td>...</td>\n",
       "      <td>0</td>\n",
       "      <td>NA</td>\n",
       "      <td>NA</td>\n",
       "      <td>NA</td>\n",
       "      <td>NA</td>\n",
       "      <td>NA</td>\n",
       "      <td>NA</td>\n",
       "      <td>NaN</td>\n",
       "      <td>The use of\"NA\" in the  SIN column is an indica...</td>\n",
       "      <td>NaN</td>\n",
       "    </tr>\n",
       "    <tr>\n",
       "      <th>1</th>\n",
       "      <td>1</td>\n",
       "      <td>2016-2017</td>\n",
       "      <td>136</td>\n",
       "      <td>AgriMarketing Program Assurance Systems</td>\n",
       "      <td>Programme Agri-marketing, volet Systèmes d'ass...</td>\n",
       "      <td>Agriculture and Agri-Food Canada</td>\n",
       "      <td>Agriculture et Agroalimentaire Canada</td>\n",
       "      <td>extern</td>\n",
       "      <td>res</td>\n",
       "      <td>prior</td>\n",
       "      <td>...</td>\n",
       "      <td>0</td>\n",
       "      <td>NA</td>\n",
       "      <td>NA</td>\n",
       "      <td>Y</td>\n",
       "      <td>Y</td>\n",
       "      <td>N</td>\n",
       "      <td>N</td>\n",
       "      <td>NaN</td>\n",
       "      <td>NaN</td>\n",
       "      <td>NaN</td>\n",
       "    </tr>\n",
       "    <tr>\n",
       "      <th>2</th>\n",
       "      <td>2</td>\n",
       "      <td>2016-2017</td>\n",
       "      <td>137</td>\n",
       "      <td>AgriMarketing Program Market Development</td>\n",
       "      <td>Programme Agri-marketing, volet Développement ...</td>\n",
       "      <td>Agriculture and Agri-Food Canada</td>\n",
       "      <td>Agriculture et Agroalimentaire Canada</td>\n",
       "      <td>extern</td>\n",
       "      <td>res</td>\n",
       "      <td>prior</td>\n",
       "      <td>...</td>\n",
       "      <td>0</td>\n",
       "      <td>NA</td>\n",
       "      <td>NA</td>\n",
       "      <td>Y</td>\n",
       "      <td>Y</td>\n",
       "      <td>N</td>\n",
       "      <td>N</td>\n",
       "      <td>NaN</td>\n",
       "      <td>NaN</td>\n",
       "      <td>NaN</td>\n",
       "    </tr>\n",
       "    <tr>\n",
       "      <th>3</th>\n",
       "      <td>3</td>\n",
       "      <td>2016-2017</td>\n",
       "      <td>138</td>\n",
       "      <td>AgriInnovation Program Industry-led Research a...</td>\n",
       "      <td>Programme Agri-innovation, Activités de recher...</td>\n",
       "      <td>Agriculture and Agri-Food Canada</td>\n",
       "      <td>Agriculture et Agroalimentaire Canada</td>\n",
       "      <td>extern</td>\n",
       "      <td>res</td>\n",
       "      <td>prior</td>\n",
       "      <td>...</td>\n",
       "      <td>0</td>\n",
       "      <td>NA</td>\n",
       "      <td>NA</td>\n",
       "      <td>Y</td>\n",
       "      <td>Y</td>\n",
       "      <td>N</td>\n",
       "      <td>N</td>\n",
       "      <td>NaN</td>\n",
       "      <td>NaN</td>\n",
       "      <td>NaN</td>\n",
       "    </tr>\n",
       "    <tr>\n",
       "      <th>4</th>\n",
       "      <td>4</td>\n",
       "      <td>2016-2017</td>\n",
       "      <td>139</td>\n",
       "      <td>AgriInnovation Program Enabling Commercializat...</td>\n",
       "      <td>Programme Agri-innovation, Facilitation de la ...</td>\n",
       "      <td>Agriculture and Agri-Food Canada</td>\n",
       "      <td>Agriculture et Agroalimentaire Canada</td>\n",
       "      <td>extern</td>\n",
       "      <td>res</td>\n",
       "      <td>prior</td>\n",
       "      <td>...</td>\n",
       "      <td>0</td>\n",
       "      <td>NA</td>\n",
       "      <td>NA</td>\n",
       "      <td>Y</td>\n",
       "      <td>Y</td>\n",
       "      <td>N</td>\n",
       "      <td>N</td>\n",
       "      <td>NaN</td>\n",
       "      <td>NaN</td>\n",
       "      <td>NaN</td>\n",
       "    </tr>\n",
       "  </tbody>\n",
       "</table>\n",
       "<p>5 rows × 38 columns</p>\n",
       "</div>"
      ],
      "text/plain": [
       "   Unnamed: 0  fiscal_yr service_id  \\\n",
       "0           0  2016-2017        135   \n",
       "1           1  2016-2017        136   \n",
       "2           2  2016-2017        137   \n",
       "3           3  2016-2017        138   \n",
       "4           4  2016-2017        139   \n",
       "\n",
       "                                     service_name_en  \\\n",
       "0                        Farm Debt Mediation Service   \n",
       "1            AgriMarketing Program Assurance Systems   \n",
       "2           AgriMarketing Program Market Development   \n",
       "3  AgriInnovation Program Industry-led Research a...   \n",
       "4  AgriInnovation Program Enabling Commercializat...   \n",
       "\n",
       "                                     service_name_fr  \\\n",
       "0  Service de médiation en matière d'endettement ...   \n",
       "1  Programme Agri-marketing, volet Systèmes d'ass...   \n",
       "2  Programme Agri-marketing, volet Développement ...   \n",
       "3  Programme Agri-innovation, Activités de recher...   \n",
       "4  Programme Agri-innovation, Facilitation de la ...   \n",
       "\n",
       "                 department_name_en                     department_name_fr  \\\n",
       "0  Agriculture and Agri-Food Canada  Agriculture et Agroalimentaire Canada   \n",
       "1  Agriculture and Agri-Food Canada  Agriculture et Agroalimentaire Canada   \n",
       "2  Agriculture and Agri-Food Canada  Agriculture et Agroalimentaire Canada   \n",
       "3  Agriculture and Agri-Food Canada  Agriculture et Agroalimentaire Canada   \n",
       "4  Agriculture and Agri-Food Canada  Agriculture et Agroalimentaire Canada   \n",
       "\n",
       "  external_internal service_type special_designations  ... other_applications  \\\n",
       "0            extern          res           prior,crit  ...                  0   \n",
       "1            extern          res                prior  ...                  0   \n",
       "2            extern          res                prior  ...                  0   \n",
       "3            extern          res                prior  ...                  0   \n",
       "4            extern          res                prior  ...                  0   \n",
       "\n",
       "  e_registration e_authentication e_application e_decision e_issuance  \\\n",
       "0             NA               NA            NA         NA         NA   \n",
       "1             NA               NA             Y          Y          N   \n",
       "2             NA               NA             Y          Y          N   \n",
       "3             NA               NA             Y          Y          N   \n",
       "4             NA               NA             Y          Y          N   \n",
       "\n",
       "  e_feedback client_feedback  \\\n",
       "0         NA             NaN   \n",
       "1          N             NaN   \n",
       "2          N             NaN   \n",
       "3          N             NaN   \n",
       "4          N             NaN   \n",
       "\n",
       "                                  special_remarks_en special_remarks_fr  \n",
       "0  The use of\"NA\" in the  SIN column is an indica...                NaN  \n",
       "1                                                NaN                NaN  \n",
       "2                                                NaN                NaN  \n",
       "3                                                NaN                NaN  \n",
       "4                                                NaN                NaN  \n",
       "\n",
       "[5 rows x 38 columns]"
      ]
     },
     "execution_count": 3,
     "metadata": {},
     "output_type": "execute_result"
    }
   ],
   "source": [
    "df_inv.head()"
   ]
  },
  {
   "cell_type": "code",
   "execution_count": 4,
   "metadata": {},
   "outputs": [
    {
     "data": {
      "text/plain": [
       "(1865, 38)"
      ]
     },
     "execution_count": 4,
     "metadata": {},
     "output_type": "execute_result"
    }
   ],
   "source": [
    "df_inv.shape"
   ]
  },
  {
   "cell_type": "markdown",
   "metadata": {},
   "source": [
    "# Data Cleanup"
   ]
  },
  {
   "cell_type": "code",
   "execution_count": 5,
   "metadata": {},
   "outputs": [
    {
     "data": {
      "text/plain": [
       "Unnamed: 0                    0\n",
       "fiscal_yr                     0\n",
       "service_id                    0\n",
       "service_name_en               0\n",
       "service_name_fr               0\n",
       "department_name_en            0\n",
       "department_name_fr            0\n",
       "external_internal             0\n",
       "service_type                  0\n",
       "special_designations          0\n",
       "service_description_en        0\n",
       "service_description_fr        0\n",
       "service_url_en              539\n",
       "service_url_fr              539\n",
       "program_name_en               3\n",
       "program_name_fr               3\n",
       "last_GBA                    853\n",
       "client_target_groups          0\n",
       "info_service                  0\n",
       "service_fee                   0\n",
       "cra_business_number           0\n",
       "use_of_sin                    0\n",
       "service_channels              0\n",
       "online_applications           0\n",
       "web_visits_info_service       0\n",
       "calls_received                0\n",
       "in_person_applications        0\n",
       "postal_mail_applications      0\n",
       "other_applications            0\n",
       "e_registration                0\n",
       "e_authentication              0\n",
       "e_application                 0\n",
       "e_decision                    0\n",
       "e_issuance                    0\n",
       "e_feedback                    0\n",
       "client_feedback             522\n",
       "special_remarks_en          575\n",
       "special_remarks_fr          782\n",
       "dtype: int64"
      ]
     },
     "execution_count": 5,
     "metadata": {},
     "output_type": "execute_result"
    }
   ],
   "source": [
    "df_inv.isna().sum()"
   ]
  },
  {
   "cell_type": "markdown",
   "metadata": {},
   "source": [
    "## E_ Columns: 3.27 – 3.32\n",
    "\n",
    "No cleaning needs to be done."
   ]
  },
  {
   "cell_type": "code",
   "execution_count": 6,
   "metadata": {},
   "outputs": [],
   "source": [
    "def display_unique_elements(df, col):\n",
    "    print(\"\\n\\n*** \" + col.upper() + \" ***\")\n",
    "    print(\"\\nNUMBER OF MISSING ELEMENTS:\", df[col].isna().sum())\n",
    "    print(\"\\nUNIQUE ELEMENTS:\", df[col].unique())\n",
    "    print(\"\\nUNIQUE ELEMENT COUNT (DESC):\")\n",
    "    for idx, val in df.fillna(\"nan\").groupby(col).size().sort_values(ascending=False).iteritems():\n",
    "        print(idx, val)"
   ]
  },
  {
   "cell_type": "code",
   "execution_count": 7,
   "metadata": {},
   "outputs": [
    {
     "name": "stdout",
     "output_type": "stream",
     "text": [
      "\n",
      "\n",
      "*** E_REGISTRATION ***\n",
      "\n",
      "NUMBER OF MISSING ELEMENTS: 0\n",
      "\n",
      "UNIQUE ELEMENTS: ['NA' 'Y' 'N']\n",
      "\n",
      "UNIQUE ELEMENT COUNT (DESC):\n",
      "NA 726\n",
      "Y 575\n",
      "N 564\n",
      "\n",
      "\n",
      "*** E_AUTHENTICATION ***\n",
      "\n",
      "NUMBER OF MISSING ELEMENTS: 0\n",
      "\n",
      "UNIQUE ELEMENTS: ['NA' 'Y' 'N']\n",
      "\n",
      "UNIQUE ELEMENT COUNT (DESC):\n",
      "N 691\n",
      "NA 641\n",
      "Y 533\n",
      "\n",
      "\n",
      "*** E_APPLICATION ***\n",
      "\n",
      "NUMBER OF MISSING ELEMENTS: 0\n",
      "\n",
      "UNIQUE ELEMENTS: ['NA' 'Y' 'N']\n",
      "\n",
      "UNIQUE ELEMENT COUNT (DESC):\n",
      "N 725\n",
      "Y 581\n",
      "NA 559\n",
      "\n",
      "\n",
      "*** E_DECISION ***\n",
      "\n",
      "NUMBER OF MISSING ELEMENTS: 0\n",
      "\n",
      "UNIQUE ELEMENTS: ['NA' 'Y' 'N']\n",
      "\n",
      "UNIQUE ELEMENT COUNT (DESC):\n",
      "N 783\n",
      "Y 547\n",
      "NA 535\n",
      "\n",
      "\n",
      "*** E_ISSUANCE ***\n",
      "\n",
      "NUMBER OF MISSING ELEMENTS: 0\n",
      "\n",
      "UNIQUE ELEMENTS: ['NA' 'N' 'Y']\n",
      "\n",
      "UNIQUE ELEMENT COUNT (DESC):\n",
      "N 723\n",
      "NA 647\n",
      "Y 495\n",
      "\n",
      "\n",
      "*** E_FEEDBACK ***\n",
      "\n",
      "NUMBER OF MISSING ELEMENTS: 0\n",
      "\n",
      "UNIQUE ELEMENTS: ['NA' 'N' 'Y']\n",
      "\n",
      "UNIQUE ELEMENT COUNT (DESC):\n",
      "Y 749\n",
      "N 739\n",
      "NA 377\n"
     ]
    }
   ],
   "source": [
    "e_columns = ['e_registration', 'e_authentication', 'e_application', 'e_decision', 'e_issuance', 'e_feedback']\n",
    "\n",
    "for col in e_columns:\n",
    "    display_unique_elements(df_inv, col)"
   ]
  },
  {
   "cell_type": "markdown",
   "metadata": {},
   "source": [
    "## Fiscal Year\n",
    "\n",
    "No cleaning needs to be done."
   ]
  },
  {
   "cell_type": "code",
   "execution_count": 8,
   "metadata": {},
   "outputs": [
    {
     "name": "stdout",
     "output_type": "stream",
     "text": [
      "\n",
      "\n",
      "*** FISCAL_YR ***\n",
      "\n",
      "NUMBER OF MISSING ELEMENTS: 0\n",
      "\n",
      "UNIQUE ELEMENTS: ['2016-2017' '2017-2018' '2018-2019']\n",
      "\n",
      "UNIQUE ELEMENT COUNT (DESC):\n",
      "2018-2019 1180\n",
      "2016-2017 347\n",
      "2017-2018 338\n"
     ]
    }
   ],
   "source": [
    "display_unique_elements(df_inv, 'fiscal_yr')"
   ]
  },
  {
   "cell_type": "markdown",
   "metadata": {},
   "source": [
    "## Department Name\n",
    "\n",
    "No cleaning needs to be done."
   ]
  },
  {
   "cell_type": "code",
   "execution_count": 9,
   "metadata": {},
   "outputs": [
    {
     "name": "stdout",
     "output_type": "stream",
     "text": [
      "\n",
      "\n",
      "*** DEPARTMENT_NAME_EN ***\n",
      "\n",
      "NUMBER OF MISSING ELEMENTS: 0\n",
      "\n",
      "UNIQUE ELEMENTS: ['Agriculture and Agri-Food Canada' 'Canada Border Services Agency'\n",
      " 'Canadian Food Inspection Agency'\n",
      " 'Immigration, Refugees and Citizenship Canada' 'Canada Revenue Agency'\n",
      " 'Canada School of Public Service'\n",
      " 'Employment and Social Development Canada'\n",
      " 'Innovation, Science and Economic Development Canada'\n",
      " 'Public Services and Procurement Canada' 'Shared Services Canada'\n",
      " 'Veterans Affairs Canada' 'Fisheries and Oceans Canada'\n",
      " 'Crown-Indigenous Relations and Northern Affairs Canada'\n",
      " 'Transport Canada' 'Public Health Agency of Canada'\n",
      " 'Office of the Superintendent of Financial Institutions Canada'\n",
      " 'Department of Indigenous Services' 'Public Safety Canada'\n",
      " 'Global Affairs Canada' 'Western Economic Diversification Canada'\n",
      " 'The National Battlefields Commission'\n",
      " 'Immigration and Refugee Board of Canada' 'Health Canada'\n",
      " 'Environment and Climate Change Canada' 'Correctional Service Canada'\n",
      " 'Canadian Transportation Agency' 'Royal Canadian Mounted Police'\n",
      " 'Canadian Heritage' 'Farm Products Council of Canada'\n",
      " 'Canadian Northern Economic Development Agency' 'Infrastructure Canada'\n",
      " 'Canadian Nuclear Safety Commission' 'Privy Council Office'\n",
      " 'Canadian Human Rights Commission'\n",
      " 'Social Sciences and Humanities Research Council of Canada'\n",
      " 'Canada Energy Regulator' 'Parks Canada'\n",
      " 'Public Service Commission of Canada' 'Statistics Canada'\n",
      " 'Atlantic Canada Opportunities Agency' 'Library and Archives Canada'\n",
      " 'Office of the Commissioner for Federal Judicial Affairs Canada'\n",
      " 'Military Police Complaints Commission of Canada'\n",
      " 'Financial Transactions and Reports Analysis Centre of Canada'\n",
      " 'Canada Economic Development for Quebec Regions' 'National Defence'\n",
      " 'Copyright Board Canada'\n",
      " 'Natural Sciences and Engineering Research Council of Canada'\n",
      " 'Natural Resources Canada' 'Canadian Institutes of Health Research'\n",
      " 'Canadian Space Agency'\n",
      " 'Administrative Tribunals Support Service of Canada'\n",
      " 'National Film Board' 'Department of Justice Canada'\n",
      " 'Canadian Radio-television and Telecommunications Commission'\n",
      " 'Parole Board of Canada' 'Treasury Board of Canada Secretariat'\n",
      " 'Financial Consumer Agency of Canada'\n",
      " 'Transportation Safety Board of Canada'\n",
      " 'National Research Council Canada' 'Courts Administration Service'\n",
      " 'Polar Knowledge Canada' 'Patented Medicine Prices Review Board Canada'\n",
      " 'Veterans Review and Appeal Board'\n",
      " 'Canadian Intergovernmental Conference Secretariat'\n",
      " 'The Correctional Investigator Canada'\n",
      " 'Impact Assessment Agency of Canada']\n",
      "\n",
      "UNIQUE ELEMENT COUNT (DESC):\n",
      "Immigration, Refugees and Citizenship Canada 226\n",
      "Public Services and Procurement Canada 137\n",
      "Canada Border Services Agency 129\n",
      "Innovation, Science and Economic Development Canada 111\n",
      "Employment and Social Development Canada 109\n",
      "Transport Canada 96\n",
      "Health Canada 83\n",
      "Veterans Affairs Canada 81\n",
      "Agriculture and Agri-Food Canada 80\n",
      "Shared Services Canada 76\n",
      "Department of Indigenous Services 64\n",
      "Crown-Indigenous Relations and Northern Affairs Canada 62\n",
      "Canada Revenue Agency 61\n",
      "Fisheries and Oceans Canada 54\n",
      "Public Safety Canada 52\n",
      "Global Affairs Canada 35\n",
      "Environment and Climate Change Canada 32\n",
      "Natural Resources Canada 32\n",
      "Canadian Heritage 23\n",
      "Public Service Commission of Canada 23\n",
      "Statistics Canada 22\n",
      "Canadian Food Inspection Agency 18\n",
      "Infrastructure Canada 18\n",
      "Parks Canada 14\n",
      "Royal Canadian Mounted Police 14\n",
      "National Research Council Canada 14\n",
      "Public Health Agency of Canada 12\n",
      "Privy Council Office 12\n",
      "Canada Energy Regulator 11\n",
      "Canadian Space Agency 10\n",
      "National Defence 10\n",
      "Parole Board of Canada 9\n",
      "Library and Archives Canada 8\n",
      "Impact Assessment Agency of Canada 7\n",
      "Natural Sciences and Engineering Research Council of Canada 6\n",
      "Social Sciences and Humanities Research Council of Canada 6\n",
      "Financial Transactions and Reports Analysis Centre of Canada 6\n",
      "Canada School of Public Service 6\n",
      "Canadian Institutes of Health Research 6\n",
      "Office of the Superintendent of Financial Institutions Canada 6\n",
      "The National Battlefields Commission 6\n",
      "Treasury Board of Canada Secretariat 6\n",
      "Canadian Nuclear Safety Commission 6\n",
      "Office of the Commissioner for Federal Judicial Affairs Canada 6\n",
      "Immigration and Refugee Board of Canada 5\n",
      "Canadian Transportation Agency 5\n",
      "Department of Justice Canada 5\n",
      "Atlantic Canada Opportunities Agency 4\n",
      "Canadian Radio-television and Telecommunications Commission 3\n",
      "Western Economic Diversification Canada 3\n",
      "Administrative Tribunals Support Service of Canada 3\n",
      "The Correctional Investigator Canada 3\n",
      "Polar Knowledge Canada 3\n",
      "Farm Products Council of Canada 3\n",
      "Military Police Complaints Commission of Canada 2\n",
      "Transportation Safety Board of Canada 2\n",
      "Canada Economic Development for Quebec Regions 2\n",
      "National Film Board 2\n",
      "Copyright Board Canada 2\n",
      "Correctional Service Canada 2\n",
      "Financial Consumer Agency of Canada 2\n",
      "Canadian Human Rights Commission 2\n",
      "Canadian Intergovernmental Conference Secretariat 2\n",
      "Canadian Northern Economic Development Agency 2\n",
      "Patented Medicine Prices Review Board Canada 1\n",
      "Courts Administration Service 1\n",
      "Veterans Review and Appeal Board 1\n"
     ]
    }
   ],
   "source": [
    "display_unique_elements(df_inv, 'department_name_en')"
   ]
  },
  {
   "cell_type": "markdown",
   "metadata": {},
   "source": [
    "## External Service or Internal Enterprise Service: 3.4"
   ]
  },
  {
   "cell_type": "code",
   "execution_count": 10,
   "metadata": {},
   "outputs": [
    {
     "name": "stdout",
     "output_type": "stream",
     "text": [
      "\n",
      "\n",
      "*** EXTERNAL_INTERNAL ***\n",
      "\n",
      "NUMBER OF MISSING ELEMENTS: 0\n",
      "\n",
      "UNIQUE ELEMENTS: ['extern' 'enterprise' 'extern,enterprise' 'extern,enterprise,intern'\n",
      " 'extern,intern' 'enterprise,intern' 'intern,extern' 'intern'\n",
      " 'enterprise,extern,intern' 'enterprise,extern' 'intern,enterprise,extern'\n",
      " 'extern,intern,enterprise']\n",
      "\n",
      "UNIQUE ELEMENT COUNT (DESC):\n",
      "extern 1461\n",
      "enterprise 220\n",
      "extern,enterprise 136\n",
      "extern,intern 18\n",
      "extern,enterprise,intern 9\n",
      "intern 6\n",
      "enterprise,extern 6\n",
      "enterprise,intern 5\n",
      "intern,extern 1\n",
      "intern,enterprise,extern 1\n",
      "extern,intern,enterprise 1\n",
      "enterprise,extern,intern 1\n"
     ]
    }
   ],
   "source": [
    "display_unique_elements(df_inv, 'external_internal')"
   ]
  },
  {
   "cell_type": "markdown",
   "metadata": {},
   "source": [
    "The three values `Ex`, `IN`, and `EI` from the DEP for *external service*, *internal enterprise servie*, and *external/internal enterprise servie* are adopted."
   ]
  },
  {
   "cell_type": "code",
   "execution_count": 11,
   "metadata": {},
   "outputs": [],
   "source": [
    "def translate_to_EI(val):\n",
    "    if val == 'extern':\n",
    "        return 'Ex'\n",
    "    elif val in ['enterprise', 'intern', 'enterprise,intern']:\n",
    "        return 'IN'\n",
    "    else:\n",
    "        return 'EI'"
   ]
  },
  {
   "cell_type": "code",
   "execution_count": 12,
   "metadata": {},
   "outputs": [
    {
     "name": "stdout",
     "output_type": "stream",
     "text": [
      "\n",
      "\n",
      "*** EXTERNAL_INTERNAL ***\n",
      "\n",
      "NUMBER OF MISSING ELEMENTS: 0\n",
      "\n",
      "UNIQUE ELEMENTS: ['Ex' 'IN' 'EI']\n",
      "\n",
      "UNIQUE ELEMENT COUNT (DESC):\n",
      "Ex 1461\n",
      "IN 231\n",
      "EI 173\n"
     ]
    }
   ],
   "source": [
    "df_inv.external_internal = df_inv.external_internal.map(translate_to_EI)\n",
    "display_unique_elements(df_inv, 'external_internal')"
   ]
  },
  {
   "cell_type": "markdown",
   "metadata": {},
   "source": [
    "# Data Exploration"
   ]
  },
  {
   "cell_type": "markdown",
   "metadata": {},
   "source": [
    "## Departments"
   ]
  },
  {
   "cell_type": "markdown",
   "metadata": {},
   "source": [
    "Total number of services / department."
   ]
  },
  {
   "cell_type": "code",
   "execution_count": 13,
   "metadata": {},
   "outputs": [
    {
     "data": {
      "image/png": "[encoded data removed]",
      "text/plain": [
       "<Figure size 432x288 with 1 Axes>"
      ]
     },
     "metadata": {
      "needs_background": "light"
     },
     "output_type": "display_data"
    }
   ],
   "source": [
    "df_inv.groupby('department_name_en').size().hist(bins=50)\n",
    "\n",
    "plt.xlabel('# of serv. proc. by a single dept.')\n",
    "plt.ylabel('# of dept.')\n",
    "\n",
    "plt.show()"
   ]
  },
  {
   "cell_type": "code",
   "execution_count": 14,
   "metadata": {},
   "outputs": [
    {
     "data": {
      "text/plain": [
       "count     67.000000\n",
       "mean      27.835821\n",
       "std       42.336887\n",
       "min        1.000000\n",
       "25%        3.000000\n",
       "50%        7.000000\n",
       "75%       32.000000\n",
       "max      226.000000\n",
       "dtype: float64"
      ]
     },
     "execution_count": 14,
     "metadata": {},
     "output_type": "execute_result"
    }
   ],
   "source": [
    "df_inv.groupby('department_name_en').size().describe()"
   ]
  },
  {
   "cell_type": "markdown",
   "metadata": {},
   "source": [
    "Total number of services / department / year."
   ]
  },
  {
   "cell_type": "code",
   "execution_count": 15,
   "metadata": {},
   "outputs": [
    {
     "data": {
      "image/png": "[encoded data removed]",
      "text/plain": [
       "<Figure size 432x288 with 1 Axes>"
      ]
     },
     "metadata": {
      "needs_background": "light"
     },
     "output_type": "display_data"
    }
   ],
   "source": [
    "yrs = ['2016-2017', '2017-2018', '2018-2019']\n",
    "\n",
    "ss = []\n",
    "for yr in yrs:\n",
    "    ss.append(df_inv[df_inv['fiscal_yr'] == yr].groupby('department_name_en').size())\n",
    "\n",
    "plt.hist(ss, stacked=True, bins=25, color=['r', 'g', 'b'], label=yrs)\n",
    "plt.legend()\n",
    "\n",
    "plt.xlabel('# of serv. proc. by a single dept.')\n",
    "plt.ylabel('# of dept.')\n",
    "\n",
    "plt.show()"
   ]
  },
  {
   "cell_type": "code",
   "execution_count": 16,
   "metadata": {},
   "outputs": [
    {
     "data": {
      "image/png": "[encoded data removed]",
      "text/plain": [
       "<Figure size 432x288 with 1 Axes>"
      ]
     },
     "metadata": {
      "needs_background": "light"
     },
     "output_type": "display_data"
    }
   ],
   "source": [
    "plt.plot(yrs, [s.sum() for s in ss])\n",
    "\n",
    "plt.xlabel('year')\n",
    "plt.ylabel('tot. # of serv.')\n",
    "\n",
    "plt.show()"
   ]
  },
  {
   "cell_type": "markdown",
   "metadata": {},
   "source": [
    "How many departments received or processed services each year?"
   ]
  },
  {
   "cell_type": "code",
   "execution_count": 17,
   "metadata": {},
   "outputs": [
    {
     "name": "stdout",
     "output_type": "stream",
     "text": [
      "# OF DEPT. INVOLVED:\n",
      "2016-2017 11\n",
      "2017-2018 11\n",
      "2018-2019 67\n"
     ]
    }
   ],
   "source": [
    "print('# OF DEPT. INVOLVED:')\n",
    "for i in range(3):\n",
    "    print(yrs[i], ss[i].size)"
   ]
  },
  {
   "cell_type": "markdown",
   "metadata": {},
   "source": [
    "What were the top 5 departments (wrt number of services processed) each year?"
   ]
  },
  {
   "cell_type": "code",
   "execution_count": 18,
   "metadata": {},
   "outputs": [
    {
     "name": "stdout",
     "output_type": "stream",
     "text": [
      "TOP 5 DEPT.:\n",
      "\n",
      "2016-2017\n",
      "Immigration, Refugees and Citizenship Canada 76\n",
      "Public Services and Procurement Canada 55\n",
      "Canada Border Services Agency 44\n",
      "Employment and Social Development Canada 36\n",
      "Innovation, Science and Economic Development Canada 34\n",
      "\n",
      "2017-2018\n",
      "Immigration, Refugees and Citizenship Canada 78\n",
      "Canada Border Services Agency 44\n",
      "Public Services and Procurement Canada 39\n",
      "Employment and Social Development Canada 37\n",
      "Innovation, Science and Economic Development Canada 34\n",
      "\n",
      "2018-2019\n",
      "Transport Canada 96\n",
      "Health Canada 83\n",
      "Immigration, Refugees and Citizenship Canada 72\n",
      "Department of Indigenous Services 64\n",
      "Crown-Indigenous Relations and Northern Affairs Canada 62\n"
     ]
    }
   ],
   "source": [
    "print('TOP 5 DEPT.:')\n",
    "for i in range(3):\n",
    "    print('\\n' + yrs[i])\n",
    "    for idx, val in ss[i].sort_values(ascending=False).iloc[0:5].iteritems():\n",
    "        print(idx, val)"
   ]
  },
  {
   "cell_type": "markdown",
   "metadata": {},
   "source": [
    "## External Service or Internal Enterprise Service:"
   ]
  },
  {
   "cell_type": "code",
   "execution_count": 19,
   "metadata": {},
   "outputs": [
    {
     "data": {
      "text/plain": [
       "external_internal\n",
       "EI     173\n",
       "Ex    1461\n",
       "IN     231\n",
       "dtype: int64"
      ]
     },
     "execution_count": 19,
     "metadata": {},
     "output_type": "execute_result"
    }
   ],
   "source": [
    "df_inv.groupby('external_internal').size()"
   ]
  },
  {
   "cell_type": "code",
   "execution_count": 20,
   "metadata": {},
   "outputs": [
    {
     "data": {
      "image/png": "[encoded data removed]",
      "text/plain": [
       "<Figure size 432x288 with 1 Axes>"
      ]
     },
     "metadata": {},
     "output_type": "display_data"
    }
   ],
   "source": [
    "df_inv.groupby('external_internal').size().plot.pie(colors=['green', 'blue', 'yellow'], label='extern/intern serv.')\n",
    "plt.show()"
   ]
  },
  {
   "cell_type": "code",
   "execution_count": 21,
   "metadata": {},
   "outputs": [
    {
     "data": {
      "image/png": "[encoded data removed]",
      "text/plain": [
       "<Figure size 432x288 with 1 Axes>"
      ]
     },
     "metadata": {},
     "output_type": "display_data"
    },
    {
     "data": {
      "image/png": "[encoded data removed]",
      "text/plain": [
       "<Figure size 432x288 with 1 Axes>"
      ]
     },
     "metadata": {},
     "output_type": "display_data"
    },
    {
     "data": {
      "image/png": "[encoded data removed]",
      "text/plain": [
       "<Figure size 432x288 with 1 Axes>"
      ]
     },
     "metadata": {},
     "output_type": "display_data"
    }
   ],
   "source": [
    "yrs = ['2016-2017', '2017-2018', '2018-2019']\n",
    "\n",
    "for yr in yrs:\n",
    "    df_inv[df_inv.fiscal_yr == yr].groupby('external_internal').size().plot.pie(colors=['green', 'blue', 'yellow'], label='extern/intern serv.')\n",
    "    plt.title(yr)\n",
    "    plt.show()"
   ]
  }
 ],
 "metadata": {
  "kernelspec": {
   "display_name": "Python 3",
   "language": "python",
   "name": "python3"
  },
  "language_info": {
   "codemirror_mode": {
    "name": "ipython",
    "version": 3
   },
   "file_extension": ".py",
   "mimetype": "text/x-python",
   "name": "python",
   "nbconvert_exporter": "python",
   "pygments_lexer": "ipython3",
   "version": "3.7.6"
  }
 },
 "nbformat": 4,
 "nbformat_minor": 4
}
